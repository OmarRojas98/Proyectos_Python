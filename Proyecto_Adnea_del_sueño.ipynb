{
  "cells": [
    {
      "cell_type": "markdown",
      "metadata": {
        "id": "view-in-github",
        "colab_type": "text"
      },
      "source": [
        "<a href=\"https://colab.research.google.com/github/OmarRojas98/Proyectos_Python/blob/main/Proyecto_Adnea_del_sue%C3%B1o.ipynb\" target=\"_parent\"><img src=\"https://colab.research.google.com/assets/colab-badge.svg\" alt=\"Open In Colab\"/></a>"
      ]
    },
    {
      "cell_type": "code",
      "source": [
        "!pip install wfdb"
      ],
      "metadata": {
        "id": "TXQhR1s8ZoWx",
        "outputId": "9b102b7b-ff65-4ffc-90a1-8c8f0fc5f03c",
        "colab": {
          "base_uri": "https://localhost:8080/"
        }
      },
      "id": "TXQhR1s8ZoWx",
      "execution_count": null,
      "outputs": [
        {
          "output_type": "stream",
          "name": "stdout",
          "text": [
            "Collecting wfdb\n",
            "  Downloading wfdb-4.1.2-py3-none-any.whl (159 kB)\n",
            "\u001b[?25l     \u001b[90m━━━━━━━━━━━━━━━━━━━━━━━━━━━━━━━━━━━━━━━━\u001b[0m \u001b[32m0.0/160.0 kB\u001b[0m \u001b[31m?\u001b[0m eta \u001b[36m-:--:--\u001b[0m\r\u001b[2K     \u001b[91m━━━━━━━━━━━━━━━━━━━━━━━\u001b[0m\u001b[90m╺\u001b[0m\u001b[90m━━━━━━━━━━━━━━━━\u001b[0m \u001b[32m92.2/160.0 kB\u001b[0m \u001b[31m2.5 MB/s\u001b[0m eta \u001b[36m0:00:01\u001b[0m\r\u001b[2K     \u001b[90m━━━━━━━━━━━━━━━━━━━━━━━━━━━━━━━━━━━━━━━\u001b[0m \u001b[32m160.0/160.0 kB\u001b[0m \u001b[31m3.2 MB/s\u001b[0m eta \u001b[36m0:00:00\u001b[0m\n",
            "\u001b[?25hRequirement already satisfied: SoundFile>=0.10.0 in /usr/local/lib/python3.10/dist-packages (from wfdb) (0.12.1)\n",
            "Requirement already satisfied: matplotlib>=3.2.2 in /usr/local/lib/python3.10/dist-packages (from wfdb) (3.7.1)\n",
            "Requirement already satisfied: numpy>=1.10.1 in /usr/local/lib/python3.10/dist-packages (from wfdb) (1.23.5)\n",
            "Requirement already satisfied: pandas>=1.3.0 in /usr/local/lib/python3.10/dist-packages (from wfdb) (1.5.3)\n",
            "Requirement already satisfied: requests>=2.8.1 in /usr/local/lib/python3.10/dist-packages (from wfdb) (2.31.0)\n",
            "Requirement already satisfied: scipy>=1.0.0 in /usr/local/lib/python3.10/dist-packages (from wfdb) (1.10.1)\n",
            "Requirement already satisfied: contourpy>=1.0.1 in /usr/local/lib/python3.10/dist-packages (from matplotlib>=3.2.2->wfdb) (1.1.0)\n",
            "Requirement already satisfied: cycler>=0.10 in /usr/local/lib/python3.10/dist-packages (from matplotlib>=3.2.2->wfdb) (0.11.0)\n",
            "Requirement already satisfied: fonttools>=4.22.0 in /usr/local/lib/python3.10/dist-packages (from matplotlib>=3.2.2->wfdb) (4.42.1)\n",
            "Requirement already satisfied: kiwisolver>=1.0.1 in /usr/local/lib/python3.10/dist-packages (from matplotlib>=3.2.2->wfdb) (1.4.4)\n",
            "Requirement already satisfied: packaging>=20.0 in /usr/local/lib/python3.10/dist-packages (from matplotlib>=3.2.2->wfdb) (23.1)\n",
            "Requirement already satisfied: pillow>=6.2.0 in /usr/local/lib/python3.10/dist-packages (from matplotlib>=3.2.2->wfdb) (9.4.0)\n",
            "Requirement already satisfied: pyparsing>=2.3.1 in /usr/local/lib/python3.10/dist-packages (from matplotlib>=3.2.2->wfdb) (3.1.1)\n",
            "Requirement already satisfied: python-dateutil>=2.7 in /usr/local/lib/python3.10/dist-packages (from matplotlib>=3.2.2->wfdb) (2.8.2)\n",
            "Requirement already satisfied: pytz>=2020.1 in /usr/local/lib/python3.10/dist-packages (from pandas>=1.3.0->wfdb) (2023.3)\n",
            "Requirement already satisfied: charset-normalizer<4,>=2 in /usr/local/lib/python3.10/dist-packages (from requests>=2.8.1->wfdb) (3.2.0)\n",
            "Requirement already satisfied: idna<4,>=2.5 in /usr/local/lib/python3.10/dist-packages (from requests>=2.8.1->wfdb) (3.4)\n",
            "Requirement already satisfied: urllib3<3,>=1.21.1 in /usr/local/lib/python3.10/dist-packages (from requests>=2.8.1->wfdb) (2.0.4)\n",
            "Requirement already satisfied: certifi>=2017.4.17 in /usr/local/lib/python3.10/dist-packages (from requests>=2.8.1->wfdb) (2023.7.22)\n",
            "Requirement already satisfied: cffi>=1.0 in /usr/local/lib/python3.10/dist-packages (from SoundFile>=0.10.0->wfdb) (1.15.1)\n",
            "Requirement already satisfied: pycparser in /usr/local/lib/python3.10/dist-packages (from cffi>=1.0->SoundFile>=0.10.0->wfdb) (2.21)\n",
            "Requirement already satisfied: six>=1.5 in /usr/local/lib/python3.10/dist-packages (from python-dateutil>=2.7->matplotlib>=3.2.2->wfdb) (1.16.0)\n",
            "Installing collected packages: wfdb\n",
            "Successfully installed wfdb-4.1.2\n"
          ]
        }
      ]
    },
    {
      "cell_type": "code",
      "source": [
        "from google.colab import drive\n",
        "drive.mount('/content/drive')"
      ],
      "metadata": {
        "colab": {
          "base_uri": "https://localhost:8080/"
        },
        "id": "rp-iU7DOQKM5",
        "outputId": "ef906cd9-8ea1-48bd-9a8a-d4da625e3e32"
      },
      "id": "rp-iU7DOQKM5",
      "execution_count": null,
      "outputs": [
        {
          "output_type": "stream",
          "name": "stdout",
          "text": [
            "Drive already mounted at /content/drive; to attempt to forcibly remount, call drive.mount(\"/content/drive\", force_remount=True).\n"
          ]
        }
      ]
    },
    {
      "cell_type": "code",
      "execution_count": null,
      "metadata": {
        "id": "a3e134fe"
      },
      "outputs": [],
      "source": [
        "import numpy as np\n",
        "import array\n",
        "\n",
        "import wfdb\n",
        "from wfdb import processing\n",
        "\n",
        "#no las use\n",
        "import pandas as pd\n",
        "\n",
        "import matplotlib.pyplot as plt\n",
        "\n",
        "from scipy import stats\n",
        "import scipy.fft as sf\n",
        "from scipy.signal import find_peaks\n",
        "\n",
        "import math\n",
        "\n",
        "import string\n",
        "#-----------------------------\n",
        "\n",
        "import tensorflow as tf\n",
        "import tensorflow_datasets as tfds\n",
        "tfds.disable_progress_bar()\n",
        "\n",
        "import tqdm\n",
        "import tqdm.auto\n",
        "tqdm.tqdm = tqdm.auto.tqdm"
      ],
      "id": "a3e134fe"
    },
    {
      "cell_type": "markdown",
      "source": [
        "Se cargaran cada uno de los registro de la base de tados en una variable respectivamente."
      ],
      "metadata": {
        "id": "MgxHFAFTPuyI"
      },
      "id": "MgxHFAFTPuyI"
    },
    {
      "cell_type": "code",
      "execution_count": null,
      "metadata": {
        "id": "ecb4debf"
      },
      "outputs": [],
      "source": [
        "\n",
        "recordname =   \"a01\"\n",
        "recordname1 =  \"a02\"\n",
        "recordname2 =  \"a03\"\n",
        "recordname3 =  \"a04\"\n",
        "recordname4 =  \"a05\"\n",
        "recordname5 =  \"a06\"\n",
        "recordname6 =  \"a07\"\n",
        "recordname7 =  \"a08\"\n",
        "recordname8 =  \"a09\"\n",
        "recordname9 =  \"a10\"\n",
        "recordname10 = \"a11\"\n",
        "recordname11 = \"a12\"\n",
        "recordname12 = \"a13\"\n",
        "recordname13 = \"a14\"\n",
        "recordname14 = \"a15\"\n",
        "recordname15 = \"a16\"\n",
        "recordname16 = \"a17\"\n",
        "recordname17 = \"a18\"\n",
        "recordname18 = \"a19\"\n",
        "recordname19 = \"a20\"\n",
        "\n",
        "recordname20 = \"b01\"\n",
        "recordname21 = \"b02\"\n",
        "recordname22 = \"b03\"\n",
        "recordname23 = \"b04\"\n",
        "recordname24 = \"b05\"\n",
        "\n",
        "recordname25 = \"c01\"\n",
        "recordname26 = \"c02\"\n",
        "recordname27 = \"c03\"\n",
        "recordname28 = \"c04\"\n",
        "recordname29 = \"c05\"\n",
        "recordname30 = \"c06\"\n",
        "recordname31 = \"c07\"\n",
        "recordname32 = \"c08\"\n",
        "recordname33 = \"c09\"\n",
        "recordname34 = \"c10\"\n"
      ],
      "id": "ecb4debf"
    },
    {
      "cell_type": "code",
      "execution_count": null,
      "metadata": {
        "id": "cd915527",
        "colab": {
          "base_uri": "https://localhost:8080/",
          "height": 392
        },
        "outputId": "91101b4c-0cab-49dd-d0f3-8f266a894100"
      },
      "outputs": [
        {
          "output_type": "error",
          "ename": "FileNotFoundError",
          "evalue": "ignored",
          "traceback": [
            "\u001b[0;31m---------------------------------------------------------------------------\u001b[0m",
            "\u001b[0;31mFileNotFoundError\u001b[0m                         Traceback (most recent call last)",
            "\u001b[0;32m<ipython-input-5-b417467d6316>\u001b[0m in \u001b[0;36m<cell line: 2>\u001b[0;34m()\u001b[0m\n\u001b[1;32m      1\u001b[0m \u001b[0;31m#Lote para entrenar el modelo\u001b[0m\u001b[0;34m\u001b[0m\u001b[0;34m\u001b[0m\u001b[0m\n\u001b[0;32m----> 2\u001b[0;31m \u001b[0mx\u001b[0m\u001b[0;34m,\u001b[0m   \u001b[0mfields\u001b[0m \u001b[0;34m=\u001b[0m \u001b[0mwfdb\u001b[0m\u001b[0;34m.\u001b[0m\u001b[0mrdsamp\u001b[0m\u001b[0;34m(\u001b[0m\u001b[0mrecordname\u001b[0m\u001b[0;34m,\u001b[0m\u001b[0mchannels\u001b[0m\u001b[0;34m=\u001b[0m\u001b[0;34m[\u001b[0m\u001b[0;36m0\u001b[0m\u001b[0;34m]\u001b[0m\u001b[0;34m)\u001b[0m\u001b[0;34m;\u001b[0m\u001b[0;34m\u001b[0m\u001b[0;34m\u001b[0m\u001b[0m\n\u001b[0m\u001b[1;32m      3\u001b[0m \u001b[0mx1\u001b[0m\u001b[0;34m,\u001b[0m  \u001b[0mfields1\u001b[0m \u001b[0;34m=\u001b[0m \u001b[0mwfdb\u001b[0m\u001b[0;34m.\u001b[0m\u001b[0mrdsamp\u001b[0m\u001b[0;34m(\u001b[0m\u001b[0mrecordname1\u001b[0m\u001b[0;34m,\u001b[0m\u001b[0mchannels\u001b[0m\u001b[0;34m=\u001b[0m\u001b[0;34m[\u001b[0m\u001b[0;36m0\u001b[0m\u001b[0;34m]\u001b[0m\u001b[0;34m)\u001b[0m\u001b[0;34m;\u001b[0m\u001b[0;34m\u001b[0m\u001b[0;34m\u001b[0m\u001b[0m\n\u001b[1;32m      4\u001b[0m \u001b[0mx2\u001b[0m\u001b[0;34m,\u001b[0m  \u001b[0mfields2\u001b[0m \u001b[0;34m=\u001b[0m \u001b[0mwfdb\u001b[0m\u001b[0;34m.\u001b[0m\u001b[0mrdsamp\u001b[0m\u001b[0;34m(\u001b[0m\u001b[0mrecordname2\u001b[0m\u001b[0;34m,\u001b[0m\u001b[0mchannels\u001b[0m\u001b[0;34m=\u001b[0m\u001b[0;34m[\u001b[0m\u001b[0;36m0\u001b[0m\u001b[0;34m]\u001b[0m\u001b[0;34m)\u001b[0m\u001b[0;34m;\u001b[0m\u001b[0;34m\u001b[0m\u001b[0;34m\u001b[0m\u001b[0m\n\u001b[1;32m      5\u001b[0m \u001b[0mx3\u001b[0m\u001b[0;34m,\u001b[0m  \u001b[0mfields3\u001b[0m \u001b[0;34m=\u001b[0m \u001b[0mwfdb\u001b[0m\u001b[0;34m.\u001b[0m\u001b[0mrdsamp\u001b[0m\u001b[0;34m(\u001b[0m\u001b[0mrecordname3\u001b[0m\u001b[0;34m,\u001b[0m\u001b[0mchannels\u001b[0m\u001b[0;34m=\u001b[0m\u001b[0;34m[\u001b[0m\u001b[0;36m0\u001b[0m\u001b[0;34m]\u001b[0m\u001b[0;34m)\u001b[0m\u001b[0;34m;\u001b[0m\u001b[0;34m\u001b[0m\u001b[0;34m\u001b[0m\u001b[0m\n",
            "\u001b[0;32m/usr/local/lib/python3.10/dist-packages/wfdb/io/record.py\u001b[0m in \u001b[0;36mrdsamp\u001b[0;34m(record_name, sampfrom, sampto, channels, pn_dir, channel_names, warn_empty, return_res)\u001b[0m\n\u001b[1;32m   2315\u001b[0m         )\n\u001b[1;32m   2316\u001b[0m \u001b[0;34m\u001b[0m\u001b[0m\n\u001b[0;32m-> 2317\u001b[0;31m     record = rdrecord(\n\u001b[0m\u001b[1;32m   2318\u001b[0m         \u001b[0mrecord_name\u001b[0m\u001b[0;34m=\u001b[0m\u001b[0mrecord_name\u001b[0m\u001b[0;34m,\u001b[0m\u001b[0;34m\u001b[0m\u001b[0;34m\u001b[0m\u001b[0m\n\u001b[1;32m   2319\u001b[0m         \u001b[0msampfrom\u001b[0m\u001b[0;34m=\u001b[0m\u001b[0msampfrom\u001b[0m\u001b[0;34m,\u001b[0m\u001b[0;34m\u001b[0m\u001b[0;34m\u001b[0m\u001b[0m\n",
            "\u001b[0;32m/usr/local/lib/python3.10/dist-packages/wfdb/io/record.py\u001b[0m in \u001b[0;36mrdrecord\u001b[0;34m(record_name, sampfrom, sampto, channels, physical, pn_dir, m2s, smooth_frames, ignore_skew, return_res, force_channels, channel_names, warn_empty)\u001b[0m\n\u001b[1;32m   2027\u001b[0m         )\n\u001b[1;32m   2028\u001b[0m \u001b[0;34m\u001b[0m\u001b[0m\n\u001b[0;32m-> 2029\u001b[0;31m     \u001b[0mrecord\u001b[0m \u001b[0;34m=\u001b[0m \u001b[0mrdheader\u001b[0m\u001b[0;34m(\u001b[0m\u001b[0mrecord_name\u001b[0m\u001b[0;34m,\u001b[0m \u001b[0mpn_dir\u001b[0m\u001b[0;34m=\u001b[0m\u001b[0mpn_dir\u001b[0m\u001b[0;34m,\u001b[0m \u001b[0mrd_segments\u001b[0m\u001b[0;34m=\u001b[0m\u001b[0;32mFalse\u001b[0m\u001b[0;34m)\u001b[0m\u001b[0;34m\u001b[0m\u001b[0;34m\u001b[0m\u001b[0m\n\u001b[0m\u001b[1;32m   2030\u001b[0m \u001b[0;34m\u001b[0m\u001b[0m\n\u001b[1;32m   2031\u001b[0m     \u001b[0;31m# Set defaults for sampto and channels input variables\u001b[0m\u001b[0;34m\u001b[0m\u001b[0;34m\u001b[0m\u001b[0m\n",
            "\u001b[0;32m/usr/local/lib/python3.10/dist-packages/wfdb/io/record.py\u001b[0m in \u001b[0;36mrdheader\u001b[0;34m(record_name, pn_dir, rd_segments)\u001b[0m\n\u001b[1;32m   1837\u001b[0m     \u001b[0mfile_name\u001b[0m \u001b[0;34m=\u001b[0m \u001b[0;34mf\"{base_record_name}.hea\"\u001b[0m\u001b[0;34m\u001b[0m\u001b[0;34m\u001b[0m\u001b[0m\n\u001b[1;32m   1838\u001b[0m     \u001b[0;32mif\u001b[0m \u001b[0mpn_dir\u001b[0m \u001b[0;32mis\u001b[0m \u001b[0;32mNone\u001b[0m\u001b[0;34m:\u001b[0m\u001b[0;34m\u001b[0m\u001b[0;34m\u001b[0m\u001b[0m\n\u001b[0;32m-> 1839\u001b[0;31m         with open(\n\u001b[0m\u001b[1;32m   1840\u001b[0m             \u001b[0mos\u001b[0m\u001b[0;34m.\u001b[0m\u001b[0mpath\u001b[0m\u001b[0;34m.\u001b[0m\u001b[0mjoin\u001b[0m\u001b[0;34m(\u001b[0m\u001b[0mdir_name\u001b[0m\u001b[0;34m,\u001b[0m \u001b[0mfile_name\u001b[0m\u001b[0;34m)\u001b[0m\u001b[0;34m,\u001b[0m\u001b[0;34m\u001b[0m\u001b[0;34m\u001b[0m\u001b[0m\n\u001b[1;32m   1841\u001b[0m             \u001b[0;34m\"r\"\u001b[0m\u001b[0;34m,\u001b[0m\u001b[0;34m\u001b[0m\u001b[0;34m\u001b[0m\u001b[0m\n",
            "\u001b[0;31mFileNotFoundError\u001b[0m: [Errno 2] No such file or directory: '/content/a01.hea'"
          ]
        }
      ],
      "source": [
        "#Lote para entrenar el modelo\n",
        "x,   fields = wfdb.rdsamp(recordname,channels=[0]);\n",
        "x1,  fields1 = wfdb.rdsamp(recordname1,channels=[0]);\n",
        "x2,  fields2 = wfdb.rdsamp(recordname2,channels=[0]);\n",
        "x3,  fields3 = wfdb.rdsamp(recordname3,channels=[0]);\n",
        "x4,  fields4 = wfdb.rdsamp(recordname4,channels=[0]);\n",
        "x5,  fields5 = wfdb.rdsamp(recordname5,channels=[0]);\n",
        "x6,  fields6 = wfdb.rdsamp(recordname6,channels=[0]);\n",
        "x7,  fields7 = wfdb.rdsamp(recordname7,channels=[0]);\n",
        "x8,  fields8 = wfdb.rdsamp(recordname8,channels=[0]);\n",
        "x9,  fields9 = wfdb.rdsamp(recordname9,channels=[0]);\n",
        "x10, fields10 = wfdb.rdsamp(recordname10,channels=[0]);\n",
        "x11, fields11 = wfdb.rdsamp(recordname11,channels=[0]);\n",
        "x12, fields12 = wfdb.rdsamp(recordname12,channels=[0]);\n",
        "x13, fields13 = wfdb.rdsamp(recordname13,channels=[0]);\n",
        "x14, fields14 = wfdb.rdsamp(recordname14,channels=[0]);\n",
        "x15, fields15 = wfdb.rdsamp(recordname15,channels=[0]);\n",
        "x16, fields16 = wfdb.rdsamp(recordname16,channels=[0]);\n",
        "x17, fields17 = wfdb.rdsamp(recordname17,channels=[0]);\n",
        "x18, fields18 = wfdb.rdsamp(recordname18,channels=[0]);\n",
        "x19, fields19 = wfdb.rdsamp(recordname19,channels=[0]);\n",
        "\n",
        "x25, fields25 = wfdb.rdsamp(recordname25,channels=[0]);\n",
        "x26, fields26 = wfdb.rdsamp(recordname26,channels=[0]);\n",
        "x27, fields27 = wfdb.rdsamp(recordname27,channels=[0]);\n",
        "x28, fields28 = wfdb.rdsamp(recordname28,channels=[0]);\n",
        "x29, fields29 = wfdb.rdsamp(recordname29,channels=[0]);\n",
        "x30, fields30 = wfdb.rdsamp(recordname30,channels=[0]);\n",
        "x31, fields31 = wfdb.rdsamp(recordname31,channels=[0]);\n",
        "x32, fields32 = wfdb.rdsamp(recordname32,channels=[0]);\n",
        "x33, fields33 = wfdb.rdsamp(recordname33,channels=[0]);\n",
        "x34, fields34 = wfdb.rdsamp(recordname34,channels=[0]);\n",
        "\n",
        "\n",
        "# lote de entrenamiento x_test\n",
        "x20, field20s = wfdb.rdsamp(recordname20,channels=[0]);\n",
        "x21, fields21 = wfdb.rdsamp(recordname21,channels=[0]);\n",
        "x22, fields22 = wfdb.rdsamp(recordname22,channels=[0]);\n",
        "x23, fields23 = wfdb.rdsamp(recordname23,channels=[0]);\n",
        "x24, fields24 = wfdb.rdsamp(recordname24,channels=[0]);"
      ],
      "id": "cd915527"
    },
    {
      "cell_type": "code",
      "source": [
        "from numpy.ma.core import transpose\n",
        "xt = transpose(x)\n",
        "xarray = np.array(xt)\n"
      ],
      "metadata": {
        "id": "XxsW9sWmekMT"
      },
      "id": "XxsW9sWmekMT",
      "execution_count": null,
      "outputs": []
    },
    {
      "cell_type": "code",
      "execution_count": null,
      "metadata": {
        "id": "786eed19",
        "colab": {
          "base_uri": "https://localhost:8080/",
          "height": 235
        },
        "outputId": "8097645e-9114-46fd-a0c7-e91c02cc705a"
      },
      "outputs": [
        {
          "output_type": "error",
          "ename": "NameError",
          "evalue": "ignored",
          "traceback": [
            "\u001b[0;31m---------------------------------------------------------------------------\u001b[0m",
            "\u001b[0;31mNameError\u001b[0m                                 Traceback (most recent call last)",
            "\u001b[0;32m<ipython-input-6-7430779287b3>\u001b[0m in \u001b[0;36m<module>\u001b[0;34m()\u001b[0m\n\u001b[0;32m----> 1\u001b[0;31m \u001b[0mann\u001b[0m \u001b[0;34m=\u001b[0m \u001b[0mwfdb\u001b[0m\u001b[0;34m.\u001b[0m\u001b[0mrdann\u001b[0m\u001b[0;34m(\u001b[0m  \u001b[0;34m\"a01\"\u001b[0m\u001b[0;34m,\u001b[0m \u001b[0;34m'apn'\u001b[0m\u001b[0;34m)\u001b[0m\u001b[0;34m\u001b[0m\u001b[0;34m\u001b[0m\u001b[0m\n\u001b[0m\u001b[1;32m      2\u001b[0m \u001b[0mann1\u001b[0m \u001b[0;34m=\u001b[0m \u001b[0mwfdb\u001b[0m\u001b[0;34m.\u001b[0m\u001b[0mrdann\u001b[0m\u001b[0;34m(\u001b[0m \u001b[0;34m\"a02\"\u001b[0m\u001b[0;34m,\u001b[0m \u001b[0;34m'apn'\u001b[0m\u001b[0;34m)\u001b[0m\u001b[0;34m\u001b[0m\u001b[0;34m\u001b[0m\u001b[0m\n\u001b[1;32m      3\u001b[0m \u001b[0mann2\u001b[0m \u001b[0;34m=\u001b[0m \u001b[0mwfdb\u001b[0m\u001b[0;34m.\u001b[0m\u001b[0mrdann\u001b[0m\u001b[0;34m(\u001b[0m \u001b[0;34m\"a03\"\u001b[0m\u001b[0;34m,\u001b[0m \u001b[0;34m'apn'\u001b[0m\u001b[0;34m)\u001b[0m\u001b[0;34m\u001b[0m\u001b[0;34m\u001b[0m\u001b[0m\n\u001b[1;32m      4\u001b[0m \u001b[0mann3\u001b[0m \u001b[0;34m=\u001b[0m \u001b[0mwfdb\u001b[0m\u001b[0;34m.\u001b[0m\u001b[0mrdann\u001b[0m\u001b[0;34m(\u001b[0m \u001b[0;34m\"a04\"\u001b[0m\u001b[0;34m,\u001b[0m \u001b[0;34m'apn'\u001b[0m\u001b[0;34m)\u001b[0m\u001b[0;34m\u001b[0m\u001b[0;34m\u001b[0m\u001b[0m\n\u001b[1;32m      5\u001b[0m \u001b[0mann4\u001b[0m \u001b[0;34m=\u001b[0m \u001b[0mwfdb\u001b[0m\u001b[0;34m.\u001b[0m\u001b[0mrdann\u001b[0m\u001b[0;34m(\u001b[0m \u001b[0;34m\"a05\"\u001b[0m\u001b[0;34m,\u001b[0m \u001b[0;34m'apn'\u001b[0m\u001b[0;34m)\u001b[0m\u001b[0;34m\u001b[0m\u001b[0;34m\u001b[0m\u001b[0m\n",
            "\u001b[0;31mNameError\u001b[0m: name 'wfdb' is not defined"
          ]
        }
      ],
      "source": [
        "ann = wfdb.rdann(  \"a01\", 'apn')\n",
        "ann1 = wfdb.rdann( \"a02\", 'apn')\n",
        "ann2 = wfdb.rdann( \"a03\", 'apn')\n",
        "ann3 = wfdb.rdann( \"a04\", 'apn')\n",
        "ann4 = wfdb.rdann( \"a05\", 'apn')\n",
        "ann5 = wfdb.rdann( \"a06\", 'apn')\n",
        "ann6 = wfdb.rdann( \"a07\", 'apn')\n",
        "ann7 = wfdb.rdann( \"a08\", 'apn')\n",
        "ann8 = wfdb.rdann( \"a09\", 'apn')\n",
        "ann9 = wfdb.rdann( \"a10\", 'apn')\n",
        "ann10 = wfdb.rdann(\"a11\", 'apn')\n",
        "ann11 = wfdb.rdann(\"a12\", 'apn')\n",
        "ann12 = wfdb.rdann(\"a13\", 'apn')\n",
        "ann13 = wfdb.rdann(\"a14\", 'apn')\n",
        "ann14 = wfdb.rdann(\"a15\", 'apn')\n",
        "ann15 = wfdb.rdann(\"a16\", 'apn')\n",
        "ann16 = wfdb.rdann(\"a17\", 'apn')\n",
        "ann17 = wfdb.rdann(\"a18\", 'apn')\n",
        "ann18 = wfdb.rdann(\"a19\", 'apn')\n",
        "ann19 = wfdb.rdann(\"a20\", 'apn')\n",
        "\n",
        "ann26 = wfdb.rdann(\"c02\", 'apn')\n",
        "ann25 = wfdb.rdann(\"c01\", 'apn')\n",
        "ann27 = wfdb.rdann(\"c03\", 'apn')\n",
        "ann28 = wfdb.rdann(\"c04\", 'apn')\n",
        "ann29 = wfdb.rdann(\"c05\", 'apn')\n",
        "ann30 = wfdb.rdann(\"c06\", 'apn')\n",
        "ann31 = wfdb.rdann(\"c07\", 'apn')\n",
        "ann32 = wfdb.rdann(\"c08\", 'apn')\n",
        "ann33 = wfdb.rdann(\"c09\", 'apn')\n",
        "ann34 = wfdb.rdann(\"c10\", 'apn')\n",
        "\n",
        "ann20 = wfdb.rdann(\"b01\", 'apn')\n",
        "ann21 = wfdb.rdann(\"b02\", 'apn')\n",
        "ann22 = wfdb.rdann(\"b03\", 'apn')\n",
        "ann23 = wfdb.rdann(\"b04\", 'apn')\n",
        "ann24 = wfdb.rdann(\"b05\", 'apn')\n",
        "\n",
        "#ann.contained_labels\n",
        "#ann.get_label_fields()"
      ],
      "id": "786eed19"
    },
    {
      "cell_type": "code",
      "execution_count": null,
      "metadata": {
        "id": "854bfb90",
        "colab": {
          "base_uri": "https://localhost:8080/",
          "height": 235
        },
        "outputId": "0d0fac39-663c-4078-ba4c-f40068101b80"
      },
      "outputs": [
        {
          "output_type": "error",
          "ename": "NameError",
          "evalue": "ignored",
          "traceback": [
            "\u001b[0;31m---------------------------------------------------------------------------\u001b[0m",
            "\u001b[0;31mNameError\u001b[0m                                 Traceback (most recent call last)",
            "\u001b[0;32m<ipython-input-7-5833bfbe3dc7>\u001b[0m in \u001b[0;36m<module>\u001b[0;34m()\u001b[0m\n\u001b[0;32m----> 1\u001b[0;31m \u001b[0mapnea\u001b[0m \u001b[0;34m=\u001b[0m \u001b[0mann\u001b[0m\u001b[0;34m.\u001b[0m\u001b[0msymbol\u001b[0m\u001b[0;34m\u001b[0m\u001b[0;34m\u001b[0m\u001b[0m\n\u001b[0m\u001b[1;32m      2\u001b[0m \u001b[0mapnea1\u001b[0m \u001b[0;34m=\u001b[0m \u001b[0mann1\u001b[0m\u001b[0;34m.\u001b[0m\u001b[0msymbol\u001b[0m\u001b[0;34m\u001b[0m\u001b[0;34m\u001b[0m\u001b[0m\n\u001b[1;32m      3\u001b[0m \u001b[0mapnea2\u001b[0m \u001b[0;34m=\u001b[0m \u001b[0mann2\u001b[0m\u001b[0;34m.\u001b[0m\u001b[0msymbol\u001b[0m\u001b[0;34m\u001b[0m\u001b[0;34m\u001b[0m\u001b[0m\n\u001b[1;32m      4\u001b[0m \u001b[0mapnea3\u001b[0m \u001b[0;34m=\u001b[0m \u001b[0mann3\u001b[0m\u001b[0;34m.\u001b[0m\u001b[0msymbol\u001b[0m\u001b[0;34m\u001b[0m\u001b[0;34m\u001b[0m\u001b[0m\n\u001b[1;32m      5\u001b[0m \u001b[0mapnea4\u001b[0m \u001b[0;34m=\u001b[0m \u001b[0mann4\u001b[0m\u001b[0;34m.\u001b[0m\u001b[0msymbol\u001b[0m\u001b[0;34m\u001b[0m\u001b[0;34m\u001b[0m\u001b[0m\n",
            "\u001b[0;31mNameError\u001b[0m: name 'ann' is not defined"
          ]
        }
      ],
      "source": [
        "apnea = ann.symbol\n",
        "apnea1 = ann1.symbol\n",
        "apnea2 = ann2.symbol\n",
        "apnea3 = ann3.symbol\n",
        "apnea4 = ann4.symbol\n",
        "apnea5 = ann5.symbol\n",
        "apnea6 = ann6.symbol\n",
        "apnea7 = ann7.symbol\n",
        "apnea8 = ann8.symbol\n",
        "apnea9 = ann9.symbol\n",
        "apnea10 = ann10.symbol\n",
        "apnea11 = ann11.symbol\n",
        "apnea12 = ann12.symbol\n",
        "apnea13 = ann13.symbol\n",
        "apnea14 = ann14.symbol\n",
        "apnea15 = ann15.symbol\n",
        "apnea16 = ann16.symbol\n",
        "apnea17 = ann17.symbol\n",
        "apnea18 = ann18.symbol\n",
        "apnea19 = ann19.symbol\n",
        "\n",
        "apnea20 = ann20.symbol\n",
        "apnea21 = ann21.symbol\n",
        "apnea22 = ann22.symbol\n",
        "apnea23 = ann23.symbol\n",
        "apnea24 = ann24.symbol\n",
        "\n",
        "apnea25 = ann25.symbol\n",
        "apnea26 = ann26.symbol\n",
        "apnea27 = ann27.symbol\n",
        "apnea28 = ann28.symbol\n",
        "apnea29 = ann29.symbol\n",
        "apnea30 = ann30.symbol\n",
        "apnea31 = ann31.symbol\n",
        "apnea32 = ann32.symbol\n",
        "apnea33 = ann33.symbol\n",
        "apnea34 = ann34.symbol"
      ],
      "id": "854bfb90"
    },
    {
      "cell_type": "code",
      "execution_count": null,
      "metadata": {
        "id": "8c07b61b",
        "colab": {
          "base_uri": "https://localhost:8080/",
          "height": 235
        },
        "outputId": "2f643e00-9dfd-49e2-f8fd-587642d09a40"
      },
      "outputs": [
        {
          "output_type": "error",
          "ename": "NameError",
          "evalue": "ignored",
          "traceback": [
            "\u001b[0;31m---------------------------------------------------------------------------\u001b[0m",
            "\u001b[0;31mNameError\u001b[0m                                 Traceback (most recent call last)",
            "\u001b[0;32m<ipython-input-8-da02b9976e5d>\u001b[0m in \u001b[0;36m<module>\u001b[0;34m()\u001b[0m\n\u001b[0;32m----> 1\u001b[0;31m \u001b[0mapnea_logica\u001b[0m \u001b[0;34m=\u001b[0m\u001b[0mnp\u001b[0m\u001b[0;34m.\u001b[0m\u001b[0mzeros\u001b[0m\u001b[0;34m(\u001b[0m\u001b[0;34m(\u001b[0m\u001b[0mlen\u001b[0m\u001b[0;34m(\u001b[0m\u001b[0mapnea\u001b[0m\u001b[0;34m)\u001b[0m\u001b[0;34m,\u001b[0m\u001b[0;36m1\u001b[0m\u001b[0;34m)\u001b[0m \u001b[0;34m,\u001b[0m\u001b[0mdtype\u001b[0m\u001b[0;34m=\u001b[0m\u001b[0mint\u001b[0m\u001b[0;34m)\u001b[0m\u001b[0;34m\u001b[0m\u001b[0;34m\u001b[0m\u001b[0m\n\u001b[0m\u001b[1;32m      2\u001b[0m \u001b[0mapnea_logica1\u001b[0m \u001b[0;34m=\u001b[0m\u001b[0mnp\u001b[0m\u001b[0;34m.\u001b[0m\u001b[0mzeros\u001b[0m\u001b[0;34m(\u001b[0m\u001b[0;34m(\u001b[0m\u001b[0mlen\u001b[0m\u001b[0;34m(\u001b[0m\u001b[0mapnea1\u001b[0m\u001b[0;34m)\u001b[0m\u001b[0;34m,\u001b[0m\u001b[0;36m1\u001b[0m\u001b[0;34m)\u001b[0m \u001b[0;34m,\u001b[0m\u001b[0mdtype\u001b[0m\u001b[0;34m=\u001b[0m\u001b[0mint\u001b[0m\u001b[0;34m)\u001b[0m\u001b[0;34m\u001b[0m\u001b[0;34m\u001b[0m\u001b[0m\n\u001b[1;32m      3\u001b[0m \u001b[0mapnea_logica2\u001b[0m \u001b[0;34m=\u001b[0m\u001b[0mnp\u001b[0m\u001b[0;34m.\u001b[0m\u001b[0mzeros\u001b[0m\u001b[0;34m(\u001b[0m\u001b[0;34m(\u001b[0m\u001b[0mlen\u001b[0m\u001b[0;34m(\u001b[0m\u001b[0mapnea2\u001b[0m\u001b[0;34m)\u001b[0m\u001b[0;34m,\u001b[0m\u001b[0;36m1\u001b[0m\u001b[0;34m)\u001b[0m \u001b[0;34m,\u001b[0m\u001b[0mdtype\u001b[0m\u001b[0;34m=\u001b[0m\u001b[0mint\u001b[0m\u001b[0;34m)\u001b[0m\u001b[0;34m\u001b[0m\u001b[0;34m\u001b[0m\u001b[0m\n\u001b[1;32m      4\u001b[0m \u001b[0mapnea_logica3\u001b[0m \u001b[0;34m=\u001b[0m\u001b[0mnp\u001b[0m\u001b[0;34m.\u001b[0m\u001b[0mzeros\u001b[0m\u001b[0;34m(\u001b[0m\u001b[0;34m(\u001b[0m\u001b[0mlen\u001b[0m\u001b[0;34m(\u001b[0m\u001b[0mapnea3\u001b[0m\u001b[0;34m)\u001b[0m\u001b[0;34m,\u001b[0m\u001b[0;36m1\u001b[0m\u001b[0;34m)\u001b[0m \u001b[0;34m,\u001b[0m\u001b[0mdtype\u001b[0m\u001b[0;34m=\u001b[0m\u001b[0mint\u001b[0m\u001b[0;34m)\u001b[0m\u001b[0;34m\u001b[0m\u001b[0;34m\u001b[0m\u001b[0m\n\u001b[1;32m      5\u001b[0m \u001b[0mapnea_logica4\u001b[0m \u001b[0;34m=\u001b[0m\u001b[0mnp\u001b[0m\u001b[0;34m.\u001b[0m\u001b[0mzeros\u001b[0m\u001b[0;34m(\u001b[0m\u001b[0;34m(\u001b[0m\u001b[0mlen\u001b[0m\u001b[0;34m(\u001b[0m\u001b[0mapnea4\u001b[0m\u001b[0;34m)\u001b[0m\u001b[0;34m-\u001b[0m\u001b[0;36m1\u001b[0m\u001b[0;34m,\u001b[0m\u001b[0;36m1\u001b[0m\u001b[0;34m)\u001b[0m \u001b[0;34m,\u001b[0m\u001b[0mdtype\u001b[0m\u001b[0;34m=\u001b[0m\u001b[0mint\u001b[0m\u001b[0;34m)\u001b[0m\u001b[0;34m\u001b[0m\u001b[0;34m\u001b[0m\u001b[0m\n",
            "\u001b[0;31mNameError\u001b[0m: name 'apnea' is not defined"
          ]
        }
      ],
      "source": [
        "apnea_logica =np.zeros((len(apnea),1) ,dtype=int)\n",
        "apnea_logica1 =np.zeros((len(apnea1),1) ,dtype=int)\n",
        "apnea_logica2 =np.zeros((len(apnea2),1) ,dtype=int)\n",
        "apnea_logica3 =np.zeros((len(apnea3),1) ,dtype=int)\n",
        "apnea_logica4 =np.zeros((len(apnea4)-1,1) ,dtype=int)\n",
        "apnea_logica5 =np.zeros((len(apnea5)-1,1) ,dtype=int)\n",
        "apnea_logica6 =np.zeros((len(apnea6)-1,1) ,dtype=int)\n",
        "apnea_logica7 =np.zeros((len(apnea7)-1,1) ,dtype=int)\n",
        "apnea_logica8 =np.zeros((len(apnea8),1) ,dtype=int)\n",
        "apnea_logica9 =np.zeros((len(apnea9)-1,1) ,dtype=int)\n",
        "apnea_logica10 =np.zeros((len(apnea10),1) ,dtype=int)\n",
        "apnea_logica11 =np.zeros((len(apnea11),1) ,dtype=int)\n",
        "apnea_logica12 =np.zeros((len(apnea12)-1,1) ,dtype=int)\n",
        "apnea_logica13 =np.zeros((len(apnea13),1) ,dtype=int)\n",
        "apnea_logica14 =np.zeros((len(apnea14)-1,1) ,dtype=int)\n",
        "apnea_logica15 =np.zeros((len(apnea15)-1,1) ,dtype=int)\n",
        "apnea_logica16 =np.zeros((len(apnea16)-1,1) ,dtype=int)\n",
        "apnea_logica17 =np.zeros((len(apnea17),1) ,dtype=int)\n",
        "apnea_logica18 =np.zeros((len(apnea18),1) ,dtype=int)\n",
        "apnea_logica19 =np.zeros((len(apnea19),1) ,dtype=int)\n",
        "\n",
        "apnea_logica25 =np.zeros((len(apnea25)-1,1) ,dtype=int)\n",
        "apnea_logica26 =np.zeros((len(apnea26)-1,1) ,dtype=int)\n",
        "apnea_logica27 =np.zeros((len(apnea27)-1,1) ,dtype=int)\n",
        "apnea_logica28 =np.zeros((len(apnea28)-1,1) ,dtype=int)\n",
        "apnea_logica29 =np.zeros((len(apnea29)-1,1) ,dtype=int)\n",
        "apnea_logica30 =np.zeros((len(apnea30)-1,1) ,dtype=int)\n",
        "apnea_logica31 =np.zeros((len(apnea31)-1,1) ,dtype=int)\n",
        "apnea_logica32 =np.zeros((len(apnea32)-1,1) ,dtype=int)\n",
        "apnea_logica33 =np.zeros((len(apnea33)-1,1) ,dtype=int)\n",
        "apnea_logica34 =np.zeros((len(apnea34)-1,1) ,dtype=int)\n",
        "\n",
        "apnea_logica20 =np.zeros((len(apnea20)-1,1) ,dtype=int)\n",
        "apnea_logica21 =np.zeros((len(apnea21),1) ,dtype=int)\n",
        "apnea_logica22 =np.zeros((len(apnea22)-1,1) ,dtype=int)\n",
        "apnea_logica23 =np.zeros((len(apnea23)-1,1) ,dtype=int)\n",
        "apnea_logica24 =np.zeros((len(apnea24)-1,1) ,dtype=int)"
      ],
      "id": "8c07b61b"
    },
    {
      "cell_type": "code",
      "execution_count": null,
      "metadata": {
        "id": "3d318afe",
        "colab": {
          "base_uri": "https://localhost:8080/",
          "height": 235
        },
        "outputId": "bf3278b6-a34e-46b5-b503-fc4b5289a376"
      },
      "outputs": [
        {
          "output_type": "error",
          "ename": "NameError",
          "evalue": "ignored",
          "traceback": [
            "\u001b[0;31m---------------------------------------------------------------------------\u001b[0m",
            "\u001b[0;31mNameError\u001b[0m                                 Traceback (most recent call last)",
            "\u001b[0;32m<ipython-input-9-c41e666b0fb2>\u001b[0m in \u001b[0;36m<module>\u001b[0;34m()\u001b[0m\n\u001b[0;32m----> 1\u001b[0;31m \u001b[0;32mfor\u001b[0m \u001b[0mi\u001b[0m \u001b[0;32min\u001b[0m \u001b[0mrange\u001b[0m\u001b[0;34m(\u001b[0m\u001b[0;36m0\u001b[0m\u001b[0;34m,\u001b[0m\u001b[0mlen\u001b[0m\u001b[0;34m(\u001b[0m\u001b[0mapnea\u001b[0m\u001b[0;34m)\u001b[0m\u001b[0;34m)\u001b[0m\u001b[0;34m:\u001b[0m\u001b[0;34m\u001b[0m\u001b[0;34m\u001b[0m\u001b[0m\n\u001b[0m\u001b[1;32m      2\u001b[0m     \u001b[0;32mif\u001b[0m \u001b[0mapnea\u001b[0m\u001b[0;34m[\u001b[0m\u001b[0mi\u001b[0m\u001b[0;34m]\u001b[0m \u001b[0;34m==\u001b[0m \u001b[0;34m'A'\u001b[0m\u001b[0;34m:\u001b[0m\u001b[0;34m\u001b[0m\u001b[0;34m\u001b[0m\u001b[0m\n\u001b[1;32m      3\u001b[0m         \u001b[0mapnea_logica\u001b[0m\u001b[0;34m[\u001b[0m\u001b[0mi\u001b[0m\u001b[0;34m]\u001b[0m \u001b[0;34m=\u001b[0m \u001b[0;36m1\u001b[0m\u001b[0;34m\u001b[0m\u001b[0;34m\u001b[0m\u001b[0m\n\u001b[1;32m      4\u001b[0m \u001b[0;32mfor\u001b[0m \u001b[0mi\u001b[0m \u001b[0;32min\u001b[0m \u001b[0mrange\u001b[0m\u001b[0;34m(\u001b[0m\u001b[0;36m0\u001b[0m\u001b[0;34m,\u001b[0m\u001b[0mlen\u001b[0m\u001b[0;34m(\u001b[0m\u001b[0mapnea1\u001b[0m\u001b[0;34m)\u001b[0m\u001b[0;34m)\u001b[0m\u001b[0;34m:\u001b[0m\u001b[0;34m\u001b[0m\u001b[0;34m\u001b[0m\u001b[0m\n\u001b[1;32m      5\u001b[0m     \u001b[0;32mif\u001b[0m \u001b[0mapnea1\u001b[0m\u001b[0;34m[\u001b[0m\u001b[0mi\u001b[0m\u001b[0;34m]\u001b[0m \u001b[0;34m==\u001b[0m \u001b[0;34m'A'\u001b[0m\u001b[0;34m:\u001b[0m\u001b[0;34m\u001b[0m\u001b[0;34m\u001b[0m\u001b[0m\n",
            "\u001b[0;31mNameError\u001b[0m: name 'apnea' is not defined"
          ]
        }
      ],
      "source": [
        "for i in range(0,len(apnea)):\n",
        "    if apnea[i] == 'A':\n",
        "        apnea_logica[i] = 1\n",
        "for i in range(0,len(apnea1)):\n",
        "    if apnea1[i] == 'A':\n",
        "        apnea_logica1[i] = 1\n",
        "for i in range(0,len(apnea2)):\n",
        "    if apnea2[i] == 'A':\n",
        "        apnea_logica2[i] = 1\n",
        "for i in range(0,len(apnea3)):\n",
        "    if apnea3[i] == 'A':\n",
        "        apnea_logica3[i] = 1\n",
        "#for i in range(0,(len(apnea4)-1)):\n",
        "    #if apnea4[i] =='A':\n",
        "        #apnea_logica4[i] = 1\n",
        "for i in range(0,len(apnea5)-1):\n",
        "    if apnea5[i] == 'A':\n",
        "        apnea_logica5[i] = 1\n",
        "for i in range(0,len(apnea6)-1):\n",
        "    if apnea6[i] == 'A':\n",
        "        apnea_logica6[i] = 1\n",
        "for i in range(0,len(apnea7)-1):\n",
        "    if apnea7[i] == 'A':\n",
        "        apnea_logica7[i] = 1\n",
        "for i in range(0,len(apnea8)):\n",
        "    if apnea8[i] == 'A':\n",
        "        apnea_logica8[i] = 1\n",
        "for i in range(0,len(apnea9)-1):\n",
        "    if apnea9[i] == 'A':\n",
        "        apnea_logica9[i] = 1\n",
        "for i in range(0,len(apnea10)):\n",
        "    if apnea10[i] == 'A':\n",
        "        apnea_logica10[i] = 1\n",
        "for i in range(0,len(apnea11)):\n",
        "    if apnea11[i] == 'A':\n",
        "        apnea_logica11[i] = 1\n",
        "for i in range(0,len(apnea12)-1):\n",
        "    if apnea12[i] == 'A':\n",
        "        apnea_logica12[i] = 1\n",
        "for i in range(0,len(apnea13)):\n",
        "    if apnea13[i] == 'A':\n",
        "        apnea_logica13[i] = 1\n",
        "for i in range(0,len(apnea14)-1):\n",
        "    if apnea14[i] == 'A':\n",
        "        apnea_logica14[i] = 1\n",
        "for i in range(0,(len(apnea15)-1)):\n",
        "    if apnea15[i] == 'A':\n",
        "        apnea_logica15[i] = 1\n",
        "for i in range(0,len(apnea16)-1):\n",
        "    if apnea16[i] == 'A':\n",
        "        apnea_logica16[i] = 1\n",
        "for i in range(0,len(apnea17)):\n",
        "    if apnea17[i] == 'A':\n",
        "        apnea_logica17[i] = 1\n",
        "for i in range(0,len(apnea18)):\n",
        "    if apnea18[i] == 'A':\n",
        "        apnea_logica18[i] = 1\n",
        "for i in range(0,len(apnea19)):\n",
        "    if apnea19[i] == 'A':\n",
        "        apnea_logica19[i] = 1\n",
        "for i in range(0,len(apnea20)-1):\n",
        "    if apnea20[i] == 'A':\n",
        "        apnea_logica20[i] = 1\n",
        "for i in range(0,len(apnea21)):\n",
        "    if apnea21[i] == 'A':\n",
        "        apnea_logica21[i] = 1\n",
        "for i in range(0,len(apnea22)-1):\n",
        "    if apnea22[i] == 'A':\n",
        "        apnea_logica22[i] = 1\n",
        "for i in range(0,len(apnea23)-1):\n",
        "    if apnea23[i] == 'A':\n",
        "        apnea_logica23[i] = 1\n",
        "for i in range(0,len(apnea24)-1):\n",
        "    if apnea24[i] == 'A':\n",
        "        apnea_logica24[i] = 1\n",
        "for i in range(0,len(apnea25)-1):\n",
        "    if apnea25[i] == 'A':\n",
        "        apnea_logica25[i] = 1\n",
        "for i in range(0,len(apnea26)-1):\n",
        "    if apnea26[i] == 'A':\n",
        "        apnea_logica26[i] = 1\n",
        "for i in range(0,len(apnea27)-1):\n",
        "    if apnea27[i] == 'A':\n",
        "        apnea_logica27[i] = 1\n",
        "for i in range(0,len(apnea28)-1):\n",
        "    if apnea28[i] == 'A':\n",
        "        apnea_logica28[i] = 1\n",
        "for i in range(0,len(apnea29)-1):\n",
        "    if apnea29[i] == 'A':\n",
        "        apnea_logica29[i] = 1\n",
        "for i in range(0,len(apnea30)-1):\n",
        "    if apnea30[i] == 'A':\n",
        "        apnea_logica30[i] = 1\n",
        "for i in range(0,len(apnea31)-1):\n",
        "    if apnea31[i] == 'A':\n",
        "        apnea_logica31[i] = 1\n",
        "for i in range(0,len(apnea32)-1):\n",
        "    if apnea32[i] == 'A':\n",
        "        apnea_logica32[i] = 1\n",
        "for i in range(0,len(apnea33)-1):\n",
        "    if apnea33[i] == 'A':\n",
        "        apnea_logica33[i] = 1\n",
        "for i in range(0,len(apnea34)-1):\n",
        "    if apnea34[i] == 'A':\n",
        "        apnea_logica34[i] = 1"
      ],
      "id": "3d318afe"
    },
    {
      "cell_type": "code",
      "execution_count": null,
      "metadata": {
        "id": "5d07bbfa",
        "colab": {
          "base_uri": "https://localhost:8080/",
          "height": 235
        },
        "outputId": "a69ed82b-6a9d-4050-9b16-5d7d1f07011a"
      },
      "outputs": [
        {
          "output_type": "error",
          "ename": "NameError",
          "evalue": "ignored",
          "traceback": [
            "\u001b[0;31m---------------------------------------------------------------------------\u001b[0m",
            "\u001b[0;31mNameError\u001b[0m                                 Traceback (most recent call last)",
            "\u001b[0;32m<ipython-input-10-f870d9d45c44>\u001b[0m in \u001b[0;36m<module>\u001b[0;34m()\u001b[0m\n\u001b[1;32m      1\u001b[0m \u001b[0;31m#como el arrray inicial es mucho mayor a las anotaciones, toca arreglar eso.\u001b[0m\u001b[0;34m\u001b[0m\u001b[0;34m\u001b[0m\u001b[0;34m\u001b[0m\u001b[0m\n\u001b[0;32m----> 2\u001b[0;31m \u001b[0mx_reshap\u001b[0m \u001b[0;34m=\u001b[0m \u001b[0mnp\u001b[0m\u001b[0;34m.\u001b[0m\u001b[0mreshape\u001b[0m\u001b[0;34m(\u001b[0m\u001b[0mx\u001b[0m\u001b[0;34m[\u001b[0m\u001b[0;36m0\u001b[0m\u001b[0;34m:\u001b[0m\u001b[0;36m6000\u001b[0m\u001b[0;34m*\u001b[0m\u001b[0mlen\u001b[0m\u001b[0;34m(\u001b[0m\u001b[0mapnea\u001b[0m\u001b[0;34m)\u001b[0m\u001b[0;34m]\u001b[0m\u001b[0;34m,\u001b[0m\u001b[0;34m[\u001b[0m\u001b[0mlen\u001b[0m\u001b[0;34m(\u001b[0m\u001b[0mapnea\u001b[0m\u001b[0;34m)\u001b[0m\u001b[0;34m,\u001b[0m\u001b[0;36m6000\u001b[0m\u001b[0;34m]\u001b[0m\u001b[0;34m)\u001b[0m\u001b[0;34m\u001b[0m\u001b[0;34m\u001b[0m\u001b[0m\n\u001b[0m\u001b[1;32m      3\u001b[0m \u001b[0mx_reshap1\u001b[0m \u001b[0;34m=\u001b[0m \u001b[0mnp\u001b[0m\u001b[0;34m.\u001b[0m\u001b[0mreshape\u001b[0m\u001b[0;34m(\u001b[0m\u001b[0mx1\u001b[0m\u001b[0;34m[\u001b[0m\u001b[0;36m0\u001b[0m\u001b[0;34m:\u001b[0m\u001b[0;36m6000\u001b[0m\u001b[0;34m*\u001b[0m\u001b[0mlen\u001b[0m\u001b[0;34m(\u001b[0m\u001b[0mapnea1\u001b[0m\u001b[0;34m)\u001b[0m\u001b[0;34m]\u001b[0m\u001b[0;34m,\u001b[0m\u001b[0;34m[\u001b[0m\u001b[0mlen\u001b[0m\u001b[0;34m(\u001b[0m\u001b[0mapnea1\u001b[0m\u001b[0;34m)\u001b[0m\u001b[0;34m,\u001b[0m\u001b[0;36m6000\u001b[0m\u001b[0;34m]\u001b[0m\u001b[0;34m)\u001b[0m\u001b[0;34m\u001b[0m\u001b[0;34m\u001b[0m\u001b[0m\n\u001b[1;32m      4\u001b[0m \u001b[0mx_reshap2\u001b[0m \u001b[0;34m=\u001b[0m \u001b[0mnp\u001b[0m\u001b[0;34m.\u001b[0m\u001b[0mreshape\u001b[0m\u001b[0;34m(\u001b[0m\u001b[0mx2\u001b[0m\u001b[0;34m[\u001b[0m\u001b[0;36m0\u001b[0m\u001b[0;34m:\u001b[0m\u001b[0;36m6000\u001b[0m\u001b[0;34m*\u001b[0m\u001b[0mlen\u001b[0m\u001b[0;34m(\u001b[0m\u001b[0mapnea2\u001b[0m\u001b[0;34m)\u001b[0m\u001b[0;34m]\u001b[0m\u001b[0;34m,\u001b[0m\u001b[0;34m[\u001b[0m\u001b[0mlen\u001b[0m\u001b[0;34m(\u001b[0m\u001b[0mapnea2\u001b[0m\u001b[0;34m)\u001b[0m\u001b[0;34m,\u001b[0m\u001b[0;36m6000\u001b[0m\u001b[0;34m]\u001b[0m\u001b[0;34m)\u001b[0m\u001b[0;34m\u001b[0m\u001b[0;34m\u001b[0m\u001b[0m\n\u001b[1;32m      5\u001b[0m \u001b[0mx_reshap3\u001b[0m \u001b[0;34m=\u001b[0m \u001b[0mnp\u001b[0m\u001b[0;34m.\u001b[0m\u001b[0mreshape\u001b[0m\u001b[0;34m(\u001b[0m\u001b[0mx3\u001b[0m\u001b[0;34m[\u001b[0m\u001b[0;36m0\u001b[0m\u001b[0;34m:\u001b[0m\u001b[0;36m6000\u001b[0m\u001b[0;34m*\u001b[0m\u001b[0mlen\u001b[0m\u001b[0;34m(\u001b[0m\u001b[0mapnea3\u001b[0m\u001b[0;34m)\u001b[0m\u001b[0;34m]\u001b[0m\u001b[0;34m,\u001b[0m\u001b[0;34m[\u001b[0m\u001b[0mlen\u001b[0m\u001b[0;34m(\u001b[0m\u001b[0mapnea3\u001b[0m\u001b[0;34m)\u001b[0m\u001b[0;34m,\u001b[0m\u001b[0;36m6000\u001b[0m\u001b[0;34m]\u001b[0m\u001b[0;34m)\u001b[0m\u001b[0;34m\u001b[0m\u001b[0;34m\u001b[0m\u001b[0m\n",
            "\u001b[0;31mNameError\u001b[0m: name 'x' is not defined"
          ]
        }
      ],
      "source": [
        "#como el arrray inicial es mucho mayor a las anotaciones, toca arreglar eso.\n",
        "x_reshap = np.reshape(x[0:6000*len(apnea)],[len(apnea),6000])\n",
        "x_reshap1 = np.reshape(x1[0:6000*len(apnea1)],[len(apnea1),6000])\n",
        "x_reshap2 = np.reshape(x2[0:6000*len(apnea2)],[len(apnea2),6000])\n",
        "x_reshap3 = np.reshape(x3[0:6000*len(apnea3)],[len(apnea3),6000])\n",
        "x_reshap4 = np.reshape(x4[0:6000*(len(apnea4)-1)],[(len(apnea4)-1),6000])\n",
        "x_reshap5 = np.reshape(x5[0:6000*(len(apnea5)-1)],[(len(apnea5)-1),6000])\n",
        "x_reshap6 = np.reshape(x6[0:6000*(len(apnea6)-1)],[(len(apnea6)-1),6000])\n",
        "x_reshap7 = np.reshape(x7[0:6000*(len(apnea7)-1)],[(len(apnea7)-1),6000])\n",
        "x_reshap8 = np.reshape(x8[0:6000*len(apnea8)],[len(apnea8),6000])\n",
        "x_reshap9 = np.reshape(x9[0:6000*(len(apnea9)-1)],[(len(apnea9)-1),6000])\n",
        "x_reshap10 = np.reshape(x10[0:6000*len(apnea10)],[len(apnea10),6000])\n",
        "x_reshap11 = np.reshape(x11[0:6000*len(apnea11)],[len(apnea11),6000])\n",
        "x_reshap12 = np.reshape(x12[0:6000*(len(apnea12)-1)],[(len(apnea12)-1),6000])\n",
        "x_reshap13 = np.reshape(x13[0:6000*len(apnea13)],[len(apnea13),6000])\n",
        "x_reshap14 = np.reshape(x14[0:6000*(len(apnea14)-1)],[(len(apnea14)-1),6000])\n",
        "x_reshap15 = np.reshape(x15[0:6000*(len(apnea15)-1)],[(len(apnea15)-1),6000])\n",
        "x_reshap16 = np.reshape(x16[0:6000*(len(apnea16)-1)],[(len(apnea16)-1),6000])\n",
        "x_reshap17 = np.reshape(x17[0:6000*len(apnea17)],[len(apnea17),6000])\n",
        "x_reshap18 = np.reshape(x18[0:6000*len(apnea18)],[len(apnea18),6000])\n",
        "x_reshap19 = np.reshape(x19[0:6000*len(apnea19)],[len(apnea19),6000])\n",
        "\n",
        "x_reshap20 = np.reshape(x20[0:6000*(len(apnea20)-1)],[(len(apnea20)-1),6000])\n",
        "x_reshap21 = np.reshape(x21[0:6000*len(apnea21)],[len(apnea21),6000])\n",
        "x_reshap22 = np.reshape(x22[0:6000*(len(apnea22)-1)],[(len(apnea22)-1),6000])\n",
        "x_reshap23 = np.reshape(x23[0:6000*(len(apnea23)-1)],[(len(apnea23)-1),6000])\n",
        "x_reshap24 = np.reshape(x24[0:6000*(len(apnea24)-1)],[(len(apnea24)-1),6000])\n",
        "\n",
        "x_reshap25 = np.reshape(x25[0:6000*(len(apnea25)-1)],[(len(apnea25)-1),6000])\n",
        "x_reshap26 = np.reshape(x26[0:6000*(len(apnea26)-1)],[(len(apnea26)-1),6000])\n",
        "x_reshap27 = np.reshape(x27[0:6000*(len(apnea27)-1)],[(len(apnea27)-1),6000])\n",
        "x_reshap28 = np.reshape(x28[0:6000*(len(apnea28)-1)],[(len(apnea28)-1),6000])\n",
        "x_reshap29 = np.reshape(x29[0:6000*(len(apnea29)-1)],[(len(apnea29)-1),6000])\n",
        "x_reshap30 = np.reshape(x30[0:6000*(len(apnea30)-1)],[(len(apnea30)-1),6000])\n",
        "x_reshap31 = np.reshape(x31[0:6000*(len(apnea31)-1)],[(len(apnea31)-1),6000])\n",
        "x_reshap32 = np.reshape(x32[0:6000*(len(apnea32)-1)],[(len(apnea32)-1),6000])\n",
        "x_reshap33 = np.reshape(x33[0:6000*(len(apnea33)-1)],[(len(apnea33)-1),6000])\n",
        "x_reshap34 = np.reshape(x34[0:6000*(len(apnea34)-1)],[(len(apnea34)-1),6000])"
      ],
      "id": "5d07bbfa"
    },
    {
      "cell_type": "code",
      "execution_count": null,
      "metadata": {
        "id": "06cf13b3",
        "colab": {
          "base_uri": "https://localhost:8080/",
          "height": 289
        },
        "outputId": "9827e956-7b5e-443f-8180-15a7c53eb881"
      },
      "outputs": [
        {
          "output_type": "error",
          "ename": "NameError",
          "evalue": "ignored",
          "traceback": [
            "\u001b[0;31m---------------------------------------------------------------------------\u001b[0m",
            "\u001b[0;31mNameError\u001b[0m                                 Traceback (most recent call last)",
            "\u001b[0;32m<ipython-input-11-9725bfaefb5f>\u001b[0m in \u001b[0;36m<module>\u001b[0;34m()\u001b[0m\n\u001b[0;32m----> 1\u001b[0;31m \u001b[0mx_trainer\u001b[0m \u001b[0;34m=\u001b[0m \u001b[0mx_reshap\u001b[0m\u001b[0;34m\u001b[0m\u001b[0;34m\u001b[0m\u001b[0m\n\u001b[0m\u001b[1;32m      2\u001b[0m \u001b[0mx_trainer\u001b[0m \u001b[0;34m=\u001b[0m \u001b[0mnp\u001b[0m\u001b[0;34m.\u001b[0m\u001b[0mconcatenate\u001b[0m\u001b[0;34m(\u001b[0m\u001b[0;34m(\u001b[0m\u001b[0mx_trainer\u001b[0m\u001b[0;34m,\u001b[0m\u001b[0mx_reshap1\u001b[0m\u001b[0;34m,\u001b[0m\u001b[0mx_reshap2\u001b[0m\u001b[0;34m,\u001b[0m\u001b[0mx_reshap3\u001b[0m\u001b[0;34m,\u001b[0m\u001b[0mx_reshap5\u001b[0m\u001b[0;34m,\u001b[0m\u001b[0mx_reshap6\u001b[0m\u001b[0;34m,\u001b[0m\u001b[0mx_reshap7\u001b[0m\u001b[0;34m,\u001b[0m\u001b[0mx_reshap8\u001b[0m\u001b[0;34m,\u001b[0m\u001b[0mx_reshap9\u001b[0m\u001b[0;34m,\u001b[0m\u001b[0mx_reshap10\u001b[0m\u001b[0;34m,\u001b[0m\u001b[0mx_reshap11\u001b[0m\u001b[0;34m,\u001b[0m\u001b[0mx_reshap12\u001b[0m\u001b[0;34m,\u001b[0m\u001b[0mx_reshap13\u001b[0m\u001b[0;34m,\u001b[0m\u001b[0mx_reshap14\u001b[0m\u001b[0;34m,\u001b[0m\u001b[0mx_reshap15\u001b[0m\u001b[0;34m,\u001b[0m\u001b[0mx_reshap16\u001b[0m\u001b[0;34m,\u001b[0m\u001b[0mx_reshap17\u001b[0m\u001b[0;34m,\u001b[0m\u001b[0mx_reshap18\u001b[0m\u001b[0;34m,\u001b[0m\u001b[0mx_reshap19\u001b[0m\u001b[0;34m,\u001b[0m\u001b[0mx_reshap25\u001b[0m\u001b[0;34m,\u001b[0m\u001b[0mx_reshap26\u001b[0m\u001b[0;34m,\u001b[0m\u001b[0mx_reshap27\u001b[0m\u001b[0;34m,\u001b[0m\u001b[0mx_reshap28\u001b[0m\u001b[0;34m,\u001b[0m\u001b[0mx_reshap29\u001b[0m\u001b[0;34m,\u001b[0m\u001b[0mx_reshap30\u001b[0m\u001b[0;34m,\u001b[0m\u001b[0mx_reshap31\u001b[0m\u001b[0;34m,\u001b[0m\u001b[0mx_reshap32\u001b[0m\u001b[0;34m,\u001b[0m\u001b[0mx_reshap33\u001b[0m\u001b[0;34m,\u001b[0m\u001b[0mx_reshap34\u001b[0m\u001b[0;34m)\u001b[0m\u001b[0;34m)\u001b[0m\u001b[0;34m\u001b[0m\u001b[0;34m\u001b[0m\u001b[0m\n\u001b[1;32m      3\u001b[0m \u001b[0my_trainer\u001b[0m \u001b[0;34m=\u001b[0m \u001b[0mapnea_logica\u001b[0m\u001b[0;34m\u001b[0m\u001b[0;34m\u001b[0m\u001b[0m\n\u001b[1;32m      4\u001b[0m \u001b[0my_trainer\u001b[0m \u001b[0;34m=\u001b[0m \u001b[0mnp\u001b[0m\u001b[0;34m.\u001b[0m\u001b[0mconcatenate\u001b[0m\u001b[0;34m(\u001b[0m\u001b[0;34m(\u001b[0m\u001b[0my_trainer\u001b[0m\u001b[0;34m,\u001b[0m\u001b[0mapnea_logica1\u001b[0m\u001b[0;34m,\u001b[0m\u001b[0mapnea_logica2\u001b[0m\u001b[0;34m,\u001b[0m\u001b[0mapnea_logica3\u001b[0m\u001b[0;34m,\u001b[0m\u001b[0mapnea_logica5\u001b[0m\u001b[0;34m,\u001b[0m\u001b[0mapnea_logica6\u001b[0m\u001b[0;34m,\u001b[0m\u001b[0mapnea_logica7\u001b[0m\u001b[0;34m,\u001b[0m\u001b[0mapnea_logica8\u001b[0m\u001b[0;34m,\u001b[0m\u001b[0mapnea_logica9\u001b[0m\u001b[0;34m,\u001b[0m\u001b[0mapnea_logica10\u001b[0m\u001b[0;34m,\u001b[0m\u001b[0mapnea_logica11\u001b[0m\u001b[0;34m,\u001b[0m\u001b[0mapnea_logica12\u001b[0m\u001b[0;34m,\u001b[0m\u001b[0mapnea_logica13\u001b[0m\u001b[0;34m,\u001b[0m\u001b[0mapnea_logica14\u001b[0m\u001b[0;34m,\u001b[0m\u001b[0mapnea_logica15\u001b[0m\u001b[0;34m,\u001b[0m\u001b[0mapnea_logica16\u001b[0m\u001b[0;34m,\u001b[0m\u001b[0mapnea_logica17\u001b[0m\u001b[0;34m,\u001b[0m\u001b[0mapnea_logica18\u001b[0m\u001b[0;34m,\u001b[0m\u001b[0mapnea_logica19\u001b[0m\u001b[0;34m,\u001b[0m\u001b[0mapnea_logica25\u001b[0m\u001b[0;34m,\u001b[0m\u001b[0mapnea_logica26\u001b[0m\u001b[0;34m,\u001b[0m\u001b[0mapnea_logica27\u001b[0m\u001b[0;34m,\u001b[0m\u001b[0mapnea_logica28\u001b[0m\u001b[0;34m,\u001b[0m\u001b[0mapnea_logica29\u001b[0m\u001b[0;34m,\u001b[0m\u001b[0mapnea_logica30\u001b[0m\u001b[0;34m,\u001b[0m\u001b[0mapnea_logica31\u001b[0m\u001b[0;34m,\u001b[0m\u001b[0mapnea_logica32\u001b[0m\u001b[0;34m,\u001b[0m\u001b[0mapnea_logica33\u001b[0m\u001b[0;34m,\u001b[0m\u001b[0mapnea_logica34\u001b[0m\u001b[0;34m)\u001b[0m\u001b[0;34m)\u001b[0m\u001b[0;34m\u001b[0m\u001b[0;34m\u001b[0m\u001b[0m\n\u001b[1;32m      5\u001b[0m \u001b[0mprint\u001b[0m\u001b[0;34m(\u001b[0m\u001b[0mlen\u001b[0m\u001b[0;34m(\u001b[0m\u001b[0mx_trainer\u001b[0m\u001b[0;34m)\u001b[0m\u001b[0;34m)\u001b[0m\u001b[0;34m\u001b[0m\u001b[0;34m\u001b[0m\u001b[0m\n",
            "\u001b[0;31mNameError\u001b[0m: name 'x_reshap' is not defined"
          ]
        }
      ],
      "source": [
        "x_trainer = x_reshap\n",
        "x_trainer = np.concatenate((x_trainer,x_reshap1,x_reshap2,x_reshap3,x_reshap5,x_reshap6,x_reshap7,x_reshap8,x_reshap9,x_reshap10,x_reshap11,x_reshap12,x_reshap13,x_reshap14,x_reshap15,x_reshap16,x_reshap17,x_reshap18,x_reshap19,x_reshap25,x_reshap26,x_reshap27,x_reshap28,x_reshap29,x_reshap30,x_reshap31,x_reshap32,x_reshap33,x_reshap34))\n",
        "y_trainer = apnea_logica\n",
        "y_trainer = np.concatenate((y_trainer,apnea_logica1,apnea_logica2,apnea_logica3,apnea_logica5,apnea_logica6,apnea_logica7,apnea_logica8,apnea_logica9,apnea_logica10,apnea_logica11,apnea_logica12,apnea_logica13,apnea_logica14,apnea_logica15,apnea_logica16,apnea_logica17,apnea_logica18,apnea_logica19,apnea_logica25,apnea_logica26,apnea_logica27,apnea_logica28,apnea_logica29,apnea_logica30,apnea_logica31,apnea_logica32,apnea_logica33,apnea_logica34))\n",
        "print(len(x_trainer))\n",
        "print(len(y_trainer))\n",
        "\n",
        "x_test = np.concatenate((x_reshap20,x_reshap21,x_reshap22,x_reshap23,x_reshap24))\n",
        "print('--------------------')\n",
        "print(len(x_reshap20))\n",
        "print(len(x_reshap21))\n",
        "print(len(x_reshap22))\n",
        "print(len(x_reshap23))\n",
        "print(len(x_reshap24))\n",
        "y_test = np.concatenate((apnea_logica20,apnea_logica21,apnea_logica22,apnea_logica23,apnea_logica24))\n",
        "print('--------------------')\n",
        "print(len(apnea_logica20))\n",
        "print(len(apnea_logica21))\n",
        "print(len(apnea_logica22))\n",
        "print(len(apnea_logica23))\n",
        "print(len(apnea_logica24))\n",
        "\n",
        "\n",
        "print('--------------------')\n",
        "print(len(x_test))\n",
        "print(len(y_test))"
      ],
      "id": "06cf13b3"
    },
    {
      "cell_type": "code",
      "execution_count": null,
      "metadata": {
        "id": "b4b860c3"
      },
      "outputs": [],
      "source": [
        "#tf.keras.utils.to_categorical(y, num_classes=None, dtype='float32'"
      ],
      "id": "b4b860c3"
    },
    {
      "cell_type": "code",
      "execution_count": null,
      "metadata": {
        "id": "acb5290c"
      },
      "outputs": [],
      "source": [
        "import statistics\n",
        "\n",
        "from tensorflow import keras\n",
        "from keras.models import Sequential\n",
        "from keras.layers import Dense, Conv1D, MaxPool1D,Flatten,Dropout"
      ],
      "id": "acb5290c"
    },
    {
      "cell_type": "code",
      "execution_count": null,
      "metadata": {
        "id": "a5877025",
        "colab": {
          "base_uri": "https://localhost:8080/",
          "height": 235
        },
        "outputId": "68e18e65-07f3-453d-8c06-37cbe43a51f0"
      },
      "outputs": [
        {
          "output_type": "error",
          "ename": "NameError",
          "evalue": "ignored",
          "traceback": [
            "\u001b[0;31m---------------------------------------------------------------------------\u001b[0m",
            "\u001b[0;31mNameError\u001b[0m                                 Traceback (most recent call last)",
            "\u001b[0;32m<ipython-input-12-cb4172126e48>\u001b[0m in \u001b[0;36m<module>\u001b[0;34m()\u001b[0m\n\u001b[1;32m      1\u001b[0m \u001b[0mnb_classes\u001b[0m \u001b[0;34m=\u001b[0m \u001b[0;36m2\u001b[0m \u001b[0;31m# number of unique digits\u001b[0m\u001b[0;34m\u001b[0m\u001b[0;34m\u001b[0m\u001b[0m\n\u001b[0;32m----> 2\u001b[0;31m \u001b[0mx_trainer\u001b[0m \u001b[0;34m=\u001b[0m\u001b[0mx_trainer\u001b[0m\u001b[0;34m.\u001b[0m\u001b[0mastype\u001b[0m\u001b[0;34m(\u001b[0m\u001b[0;34m'float32'\u001b[0m\u001b[0;34m)\u001b[0m\u001b[0;34m\u001b[0m\u001b[0;34m\u001b[0m\u001b[0m\n\u001b[0m\u001b[1;32m      3\u001b[0m \u001b[0mx_test\u001b[0m \u001b[0;34m=\u001b[0m \u001b[0mx_test\u001b[0m\u001b[0;34m.\u001b[0m\u001b[0mastype\u001b[0m\u001b[0;34m(\u001b[0m\u001b[0;34m'float32'\u001b[0m\u001b[0;34m)\u001b[0m\u001b[0;34m\u001b[0m\u001b[0;34m\u001b[0m\u001b[0m\n\u001b[1;32m      4\u001b[0m \u001b[0;34m\u001b[0m\u001b[0m\n\u001b[1;32m      5\u001b[0m \u001b[0;31m#x_chiquito_ = np.transpose(x_chiquito)\u001b[0m\u001b[0;34m\u001b[0m\u001b[0;34m\u001b[0m\u001b[0;34m\u001b[0m\u001b[0m\n",
            "\u001b[0;31mNameError\u001b[0m: name 'x_trainer' is not defined"
          ]
        }
      ],
      "source": [
        "nb_classes = 2 # number of unique digits\n",
        "x_trainer =x_trainer.astype('float32')\n",
        "x_test = x_test.astype('float32')\n",
        "\n",
        "#x_chiquito_ = np.transpose(x_chiquito)\n",
        "\n",
        "X_trainer=stats.zscore(x_trainer)\n",
        "#print(X_trainer,x_trainer)\n",
        "#X_trainer = x_trainer/np.linalg.norm(x_trainer)\n",
        "X_test = stats.zscore(x_test)\n",
        "\n",
        "Y_train= tf.keras.utils.to_categorical(y_trainer, nb_classes)\n",
        "Y_test = tf.keras.utils.to_categorical(y_test, nb_classes)\n",
        "#print(\"Training matrix shape\", x_trainer.shape)\n",
        "#print(\"xtest matrix shape\", x_test.shape)\n",
        "#print(\"ytest matrix shape\", y_test.shape)"
      ],
      "id": "a5877025"
    },
    {
      "cell_type": "code",
      "execution_count": null,
      "metadata": {
        "id": "225c162e",
        "colab": {
          "base_uri": "https://localhost:8080/",
          "height": 235
        },
        "outputId": "f9123cb7-fdb3-4130-8763-7d952fa4f26a"
      },
      "outputs": [
        {
          "output_type": "error",
          "ename": "NameError",
          "evalue": "ignored",
          "traceback": [
            "\u001b[0;31m---------------------------------------------------------------------------\u001b[0m",
            "\u001b[0;31mNameError\u001b[0m                                 Traceback (most recent call last)",
            "\u001b[0;32m<ipython-input-13-6e3a376ab402>\u001b[0m in \u001b[0;36m<module>\u001b[0;34m()\u001b[0m\n\u001b[1;32m      1\u001b[0m \u001b[0;34m\u001b[0m\u001b[0m\n\u001b[0;32m----> 2\u001b[0;31m modelo = keras.Sequential(\n\u001b[0m\u001b[1;32m      3\u001b[0m   [\n\u001b[1;32m      4\u001b[0m     \u001b[0;31m#Dense(4096, activation = 'relu', input_shape = (6000,)),\u001b[0m\u001b[0;34m\u001b[0m\u001b[0;34m\u001b[0m\u001b[0;34m\u001b[0m\u001b[0m\n\u001b[1;32m      5\u001b[0m     \u001b[0;31m#Dense(2028, activation = 'relu', input_shape = (6000,)),\u001b[0m\u001b[0;34m\u001b[0m\u001b[0;34m\u001b[0m\u001b[0;34m\u001b[0m\u001b[0m\n",
            "\u001b[0;31mNameError\u001b[0m: name 'keras' is not defined"
          ]
        }
      ],
      "source": [
        "\n",
        "modelo = keras.Sequential(\n",
        "  [\n",
        "    #Dense(4096, activation = 'relu', input_shape = (6000,)),\n",
        "    #Dense(2028, activation = 'relu', input_shape = (6000,)),\n",
        "    Conv1D(filters = 10, kernel_size = 14, strides = 1, padding = 'valid',  activation = 'relu', input_shape = (6000,1)),\n",
        "    MaxPool1D(pool_size = 2),\n",
        "    Conv1D(filters = 20, kernel_size = 14, strides = 1, padding = 'valid',  activation = 'relu'),\n",
        "    MaxPool1D(pool_size = 2),\n",
        "    Flatten(),\n",
        "    Dense(1024, activation = 'relu'),\n",
        "    Dropout(0.25),\n",
        "    Dense(512, activation = 'relu'),\n",
        "    Dropout(0.50),\n",
        "    Dense(256, activation = 'relu'),\n",
        "    Dropout(0),\n",
        "    Dense(2, activation = 'softmax')\n",
        "  ]\n",
        ")\n",
        "\n",
        "print(modelo.summary())\n",
        "#opt = keras.optimizers.Adam(learning_rate=0.001)\n",
        "modelo.compile(loss='categorical_crossentropy', optimizer='adam', metrics=['accuracy'])\n",
        "modelo.fit(X_trainer, Y_train,\n",
        "          batch_size=300, epochs=5,\n",
        "          verbose=1)\n",
        "modelo.evaluate(X_test, Y_test,\n",
        "          batch_size=30,\n",
        "          verbose=1)"
      ],
      "id": "225c162e"
    },
    {
      "cell_type": "code",
      "execution_count": null,
      "metadata": {
        "id": "0sKol4akFWHZ",
        "colab": {
          "base_uri": "https://localhost:8080/",
          "height": 235
        },
        "outputId": "4d24ae55-e35b-48ea-9a06-64cc06f5c9f5"
      },
      "outputs": [
        {
          "output_type": "error",
          "ename": "NameError",
          "evalue": "ignored",
          "traceback": [
            "\u001b[0;31m---------------------------------------------------------------------------\u001b[0m",
            "\u001b[0;31mNameError\u001b[0m                                 Traceback (most recent call last)",
            "\u001b[0;32m<ipython-input-14-30c23f04a819>\u001b[0m in \u001b[0;36m<module>\u001b[0;34m()\u001b[0m\n\u001b[1;32m      1\u001b[0m \u001b[0;34m\u001b[0m\u001b[0m\n\u001b[0;32m----> 2\u001b[0;31m modelo1 = keras.Sequential(\n\u001b[0m\u001b[1;32m      3\u001b[0m   [\n\u001b[1;32m      4\u001b[0m     \u001b[0;31m#Dense(4096, activation = 'relu', input_shape = (6000,)),\u001b[0m\u001b[0;34m\u001b[0m\u001b[0;34m\u001b[0m\u001b[0;34m\u001b[0m\u001b[0m\n\u001b[1;32m      5\u001b[0m     \u001b[0;31m#Dense(2028, activation = 'relu', input_shape = (6000,)),\u001b[0m\u001b[0;34m\u001b[0m\u001b[0;34m\u001b[0m\u001b[0;34m\u001b[0m\u001b[0m\n",
            "\u001b[0;31mNameError\u001b[0m: name 'keras' is not defined"
          ]
        }
      ],
      "source": [
        "\n",
        "modelo1 = keras.Sequential(\n",
        "  [\n",
        "    #Dense(4096, activation = 'relu', input_shape = (6000,)),\n",
        "    #Dense(2028, activation = 'relu', input_shape = (6000,)),\n",
        "    Conv1D(filters = 10, kernel_size = 14, strides = 1, padding = 'valid',  activation = 'relu', input_shape = (6000,1)),\n",
        "    MaxPool1D(pool_size = 2),\n",
        "    Conv1D(filters = 20, kernel_size = 14, strides = 1, padding = 'valid',  activation = 'relu'),\n",
        "    MaxPool1D(pool_size = 2),\n",
        "    Flatten(),\n",
        "    Dense(1024, activation = 'relu'),\n",
        "    Dropout(0.25),\n",
        "    Dense(512, activation = 'relu'),\n",
        "    Dropout(0.50),\n",
        "    Dense(256, activation = 'relu'),\n",
        "    Dropout(0),\n",
        "    Dense(2, activation = 'softmax')\n",
        "  ]\n",
        ")\n",
        "\n",
        "print(modelo1.summary())\n",
        "\n",
        "opt = keras.optimizers.Adam(learning_rate=0.1)\n",
        "modelo1.compile(loss='categorical_crossentropy', optimizer= opt, metrics=['accuracy'])\n",
        "modelo1.fit(X_trainer, Y_train,\n",
        "          batch_size=4, epochs=5,\n",
        "          verbose=1)\n",
        "modelo1.evaluate(X_test, Y_test,\n",
        "          batch_size=4,\n",
        "          verbose=1)"
      ],
      "id": "0sKol4akFWHZ"
    },
    {
      "cell_type": "code",
      "execution_count": null,
      "metadata": {
        "id": "vNEDl28qbY2_",
        "colab": {
          "base_uri": "https://localhost:8080/",
          "height": 235
        },
        "outputId": "7a0216be-3720-4fdc-8e23-d83b5495bf91"
      },
      "outputs": [
        {
          "output_type": "error",
          "ename": "NameError",
          "evalue": "ignored",
          "traceback": [
            "\u001b[0;31m---------------------------------------------------------------------------\u001b[0m",
            "\u001b[0;31mNameError\u001b[0m                                 Traceback (most recent call last)",
            "\u001b[0;32m<ipython-input-15-46c861a62f61>\u001b[0m in \u001b[0;36m<module>\u001b[0;34m()\u001b[0m\n\u001b[0;32m----> 1\u001b[0;31m modelo2 = keras.Sequential(\n\u001b[0m\u001b[1;32m      2\u001b[0m   [\n\u001b[1;32m      3\u001b[0m     \u001b[0;31m#Dense(4096, activation = 'relu', input_shape = (6000,)),\u001b[0m\u001b[0;34m\u001b[0m\u001b[0;34m\u001b[0m\u001b[0;34m\u001b[0m\u001b[0m\n\u001b[1;32m      4\u001b[0m     \u001b[0;31m#Dense(2028, activation = 'relu', input_shape = (6000,)),\u001b[0m\u001b[0;34m\u001b[0m\u001b[0;34m\u001b[0m\u001b[0;34m\u001b[0m\u001b[0m\n\u001b[1;32m      5\u001b[0m     \u001b[0mConv1D\u001b[0m\u001b[0;34m(\u001b[0m\u001b[0mfilters\u001b[0m \u001b[0;34m=\u001b[0m \u001b[0;36m10\u001b[0m\u001b[0;34m,\u001b[0m \u001b[0mkernel_size\u001b[0m \u001b[0;34m=\u001b[0m \u001b[0;36m14\u001b[0m\u001b[0;34m,\u001b[0m \u001b[0mstrides\u001b[0m \u001b[0;34m=\u001b[0m \u001b[0;36m1\u001b[0m\u001b[0;34m,\u001b[0m \u001b[0mpadding\u001b[0m \u001b[0;34m=\u001b[0m \u001b[0;34m'valid'\u001b[0m\u001b[0;34m,\u001b[0m  \u001b[0mactivation\u001b[0m \u001b[0;34m=\u001b[0m \u001b[0;34m'relu'\u001b[0m\u001b[0;34m,\u001b[0m \u001b[0minput_shape\u001b[0m \u001b[0;34m=\u001b[0m \u001b[0;34m(\u001b[0m\u001b[0;36m6000\u001b[0m\u001b[0;34m,\u001b[0m\u001b[0;36m1\u001b[0m\u001b[0;34m)\u001b[0m\u001b[0;34m)\u001b[0m\u001b[0;34m,\u001b[0m\u001b[0;34m\u001b[0m\u001b[0;34m\u001b[0m\u001b[0m\n",
            "\u001b[0;31mNameError\u001b[0m: name 'keras' is not defined"
          ]
        }
      ],
      "source": [
        "modelo2 = keras.Sequential(\n",
        "  [\n",
        "    #Dense(4096, activation = 'relu', input_shape = (6000,)),\n",
        "    #Dense(2028, activation = 'relu', input_shape = (6000,)),\n",
        "    Conv1D(filters = 10, kernel_size = 14, strides = 1, padding = 'valid',  activation = 'relu', input_shape = (6000,1)),\n",
        "    MaxPool1D(pool_size = 2),\n",
        "    Conv1D(filters = 20, kernel_size = 14, strides = 1, padding = 'valid',  activation = 'relu'),\n",
        "    MaxPool1D(pool_size = 2),\n",
        "    Flatten(),\n",
        "    Dense(1024, activation = 'relu'),\n",
        "    Dropout(0.25),\n",
        "    Dense(512, activation = 'relu'),\n",
        "    Dropout(0.5),\n",
        "    Dense(256, activation = 'relu'),\n",
        "    Dropout(0),\n",
        "    Dense(2, activation = 'softmax')\n",
        "  ]\n",
        ")\n",
        "\n",
        "print(modelo2.summary())\n",
        "\n",
        "#opt = keras.optimizers.Adam(learning_rate=0.00001)\n",
        "modelo2.compile(loss='categorical_crossentropy', optimizer= 'adam', metrics=['accuracy'])\n",
        "modelo2.fit(X_trainer, Y_train,\n",
        "          batch_size=300, epochs=5,\n",
        "          verbose=1)\n",
        "modelo2.evaluate(X_test, Y_test,\n",
        "          batch_size=30,\n",
        "          verbose=1)"
      ],
      "id": "vNEDl28qbY2_"
    },
    {
      "cell_type": "code",
      "execution_count": null,
      "metadata": {
        "id": "5jS-ZawCfCkl",
        "colab": {
          "base_uri": "https://localhost:8080/",
          "height": 235
        },
        "outputId": "a616a6a2-351a-4e70-dfaf-1dcc844dee7e"
      },
      "outputs": [
        {
          "output_type": "error",
          "ename": "NameError",
          "evalue": "ignored",
          "traceback": [
            "\u001b[0;31m---------------------------------------------------------------------------\u001b[0m",
            "\u001b[0;31mNameError\u001b[0m                                 Traceback (most recent call last)",
            "\u001b[0;32m<ipython-input-16-fef8a2aef776>\u001b[0m in \u001b[0;36m<module>\u001b[0;34m()\u001b[0m\n\u001b[0;32m----> 1\u001b[0;31m modelo3 = keras.Sequential(\n\u001b[0m\u001b[1;32m      2\u001b[0m   [\n\u001b[1;32m      3\u001b[0m     \u001b[0;31m#Dense(4096, activation = 'relu', input_shape = (6000,)),\u001b[0m\u001b[0;34m\u001b[0m\u001b[0;34m\u001b[0m\u001b[0;34m\u001b[0m\u001b[0m\n\u001b[1;32m      4\u001b[0m     \u001b[0;31m#Dense(2028, activation = 'relu', input_shape = (6000,)),\u001b[0m\u001b[0;34m\u001b[0m\u001b[0;34m\u001b[0m\u001b[0;34m\u001b[0m\u001b[0m\n\u001b[1;32m      5\u001b[0m     \u001b[0mConv1D\u001b[0m\u001b[0;34m(\u001b[0m\u001b[0mfilters\u001b[0m \u001b[0;34m=\u001b[0m \u001b[0;36m10\u001b[0m\u001b[0;34m,\u001b[0m \u001b[0mkernel_size\u001b[0m \u001b[0;34m=\u001b[0m \u001b[0;36m14\u001b[0m\u001b[0;34m,\u001b[0m \u001b[0mstrides\u001b[0m \u001b[0;34m=\u001b[0m \u001b[0;36m1\u001b[0m\u001b[0;34m,\u001b[0m \u001b[0mpadding\u001b[0m \u001b[0;34m=\u001b[0m \u001b[0;34m'valid'\u001b[0m\u001b[0;34m,\u001b[0m  \u001b[0mactivation\u001b[0m \u001b[0;34m=\u001b[0m \u001b[0;34m'relu'\u001b[0m\u001b[0;34m,\u001b[0m \u001b[0minput_shape\u001b[0m \u001b[0;34m=\u001b[0m \u001b[0;34m(\u001b[0m\u001b[0;36m6000\u001b[0m\u001b[0;34m,\u001b[0m\u001b[0;36m1\u001b[0m\u001b[0;34m)\u001b[0m\u001b[0;34m)\u001b[0m\u001b[0;34m,\u001b[0m\u001b[0;34m\u001b[0m\u001b[0;34m\u001b[0m\u001b[0m\n",
            "\u001b[0;31mNameError\u001b[0m: name 'keras' is not defined"
          ]
        }
      ],
      "source": [
        "modelo3 = keras.Sequential(\n",
        "  [\n",
        "    #Dense(4096, activation = 'relu', input_shape = (6000,)),\n",
        "    #Dense(2028, activation = 'relu', input_shape = (6000,)),\n",
        "    Conv1D(filters = 10, kernel_size = 14, strides = 1, padding = 'valid',  activation = 'relu', input_shape = (6000,1)),\n",
        "    MaxPool1D(pool_size = 2),\n",
        "    Conv1D(filters = 20, kernel_size = 14, strides = 1, padding = 'valid',  activation = 'relu'),\n",
        "    MaxPool1D(pool_size = 2),\n",
        "    Flatten(),\n",
        "    Dense(1024, activation = 'relu'),\n",
        "   # Dropout(0.25),\n",
        "    Dense(512, activation = 'relu'),\n",
        "    #Dropout(0.50),\n",
        "    Dense(256, activation = 'relu'),\n",
        "   # Dropout(0),\n",
        "    Dense(2, activation = 'softmax')\n",
        "  ]\n",
        ")\n",
        "\n",
        "print(modelo3.summary())\n",
        "#opt = keras.optimizers.Adam(learning_rate=0.001)\n",
        "modelo3.compile(loss='categorical_crossentropy', optimizer='adam', metrics=['accuracy'])\n",
        "modelo3.fit(X_trainer, Y_train,\n",
        "          batch_size=300, epochs=5,\n",
        "          verbose=1)\n",
        "modelo3.evaluate(X_test, Y_test,\n",
        "          batch_size=30,\n",
        "          verbose=1)"
      ],
      "id": "5jS-ZawCfCkl"
    },
    {
      "cell_type": "code",
      "execution_count": null,
      "metadata": {
        "id": "_Z3ShM18fGat",
        "colab": {
          "base_uri": "https://localhost:8080/",
          "height": 235
        },
        "outputId": "e4f2a786-0f5f-4739-c4f6-afc12178e903"
      },
      "outputs": [
        {
          "output_type": "error",
          "ename": "NameError",
          "evalue": "ignored",
          "traceback": [
            "\u001b[0;31m---------------------------------------------------------------------------\u001b[0m",
            "\u001b[0;31mNameError\u001b[0m                                 Traceback (most recent call last)",
            "\u001b[0;32m<ipython-input-1-b2a4d6b78206>\u001b[0m in \u001b[0;36m<module>\u001b[0;34m()\u001b[0m\n\u001b[0;32m----> 1\u001b[0;31m modelo4 = keras.Sequential(\n\u001b[0m\u001b[1;32m      2\u001b[0m   [\n\u001b[1;32m      3\u001b[0m     \u001b[0;31m#Dense(4096, activation = 'relu', input_shape = (6000,)),\u001b[0m\u001b[0;34m\u001b[0m\u001b[0;34m\u001b[0m\u001b[0;34m\u001b[0m\u001b[0m\n\u001b[1;32m      4\u001b[0m     \u001b[0;31m#Dense(2028, activation = 'relu', input_shape = (6000,)),\u001b[0m\u001b[0;34m\u001b[0m\u001b[0;34m\u001b[0m\u001b[0;34m\u001b[0m\u001b[0m\n\u001b[1;32m      5\u001b[0m     \u001b[0mConv1D\u001b[0m\u001b[0;34m(\u001b[0m\u001b[0mfilters\u001b[0m \u001b[0;34m=\u001b[0m \u001b[0;36m10\u001b[0m\u001b[0;34m,\u001b[0m \u001b[0mkernel_size\u001b[0m \u001b[0;34m=\u001b[0m \u001b[0;36m14\u001b[0m\u001b[0;34m,\u001b[0m \u001b[0mstrides\u001b[0m \u001b[0;34m=\u001b[0m \u001b[0;36m1\u001b[0m\u001b[0;34m,\u001b[0m \u001b[0mpadding\u001b[0m \u001b[0;34m=\u001b[0m \u001b[0;34m'valid'\u001b[0m\u001b[0;34m,\u001b[0m  \u001b[0mactivation\u001b[0m \u001b[0;34m=\u001b[0m \u001b[0;34m'relu'\u001b[0m\u001b[0;34m,\u001b[0m \u001b[0minput_shape\u001b[0m \u001b[0;34m=\u001b[0m \u001b[0;34m(\u001b[0m\u001b[0;36m6000\u001b[0m\u001b[0;34m,\u001b[0m\u001b[0;36m1\u001b[0m\u001b[0;34m)\u001b[0m\u001b[0;34m)\u001b[0m\u001b[0;34m,\u001b[0m\u001b[0;34m\u001b[0m\u001b[0;34m\u001b[0m\u001b[0m\n",
            "\u001b[0;31mNameError\u001b[0m: name 'keras' is not defined"
          ]
        }
      ],
      "source": [
        "modelo4 = keras.Sequential(\n",
        "  [\n",
        "    #Dense(4096, activation = 'relu', input_shape = (6000,)),\n",
        "    #Dense(2028, activation = 'relu', input_shape = (6000,)),\n",
        "    Conv1D(filters = 10, kernel_size = 14, strides = 1, padding = 'valid',  activation = 'relu', input_shape = (6000,1)),\n",
        "    MaxPool1D(pool_size = 2),\n",
        "    Conv1D(filters = 20, kernel_size = 14, strides = 1, padding = 'valid',  activation = 'relu'),\n",
        "    MaxPool1D(pool_size = 2),\n",
        "    Flatten(),\n",
        "    Dense(1024, activation = 'relu'),\n",
        "    #Dropout(0.25),\n",
        "    Dense(512, activation = 'relu'),\n",
        "    #Dropout(0.50),\n",
        "    Dense(256, activation = 'relu'),\n",
        "    #Dropout(0),\n",
        "    Dense(2, activation = 'softmax')\n",
        "  ]\n",
        ")\n",
        "\n",
        "print(modelo4.summary())\n",
        "#opt = keras.optimizers.Adam(learning_rate=0.001)\n",
        "modelo4.compile(loss='categorical_crossentropy', optimizer='adam', metrics=['accuracy'])\n",
        "modelo4.fit(X_trainer, Y_train,\n",
        "          batch_size=300, epochs=5,\n",
        "          verbose=1)\n",
        "modelo4.evaluate(X_test, Y_test,\n",
        "          batch_size=30,\n",
        "          verbose=1)"
      ],
      "id": "_Z3ShM18fGat"
    },
    {
      "cell_type": "code",
      "execution_count": null,
      "metadata": {
        "id": "bf8YeJkPNFEc"
      },
      "outputs": [],
      "source": [],
      "id": "bf8YeJkPNFEc"
    },
    {
      "cell_type": "markdown",
      "metadata": {
        "id": "nWYNcNyxNFr5"
      },
      "source": [
        "#no las use\n",
        "import pandas as pd\n",
        "\n",
        "import matplotlib.pyplot as plt\n",
        "\n",
        "from scipy import stats\n",
        "import scipy.fft as sf\n",
        "from scipy.signal import find_peaks\n",
        "\n",
        "import math\n",
        "\n",
        "import string\n",
        "#-----------------------------"
      ],
      "id": "nWYNcNyxNFr5"
    }
  ],
  "metadata": {
    "colab": {
      "provenance": [],
      "include_colab_link": true
    },
    "kernelspec": {
      "display_name": "Python 3 (ipykernel)",
      "language": "python",
      "name": "python3"
    },
    "language_info": {
      "codemirror_mode": {
        "name": "ipython",
        "version": 3
      },
      "file_extension": ".py",
      "mimetype": "text/x-python",
      "name": "python",
      "nbconvert_exporter": "python",
      "pygments_lexer": "ipython3",
      "version": "3.9.7"
    }
  },
  "nbformat": 4,
  "nbformat_minor": 5
}