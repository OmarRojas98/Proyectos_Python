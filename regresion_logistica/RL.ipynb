{
 "cells": [
  {
   "cell_type": "code",
   "execution_count": 2,
   "metadata": {},
   "outputs": [
    {
     "name": "stdout",
     "output_type": "stream",
     "text": [
      "Precisión del modelo: 0.81\n"
     ]
    }
   ],
   "source": [
    "import numpy as np\n",
    "import matplotlib.pyplot as plt\n",
    "from sklearn.datasets import make_moons\n",
    "from sklearn.model_selection import train_test_split\n",
    "from sklearn.metrics import accuracy_score\n",
    "\n",
    "# Generar datos de ejemplo\n",
    "n_samples = 1000\n",
    "X, y = make_moons(n_samples=n_samples, noise=0.5, random_state=1)\n",
    "\n",
    "# Dividir los datos en conjuntos de entrenamiento y prueba\n",
    "X_train, X_test, y_train, y_test = train_test_split(X, y, test_size=0.2, random_state=42)\n",
    "\n",
    "# Inicializar pesos (w) y sesgo (b)\n",
    "w = np.zeros(X_train.shape[1])\n",
    "b = 0\n",
    "\n",
    "# Tasa de aprendizaje y número de iteraciones\n",
    "alpha = 0.01\n",
    "iterations = 1000\n",
    "\n",
    "# Función sigmoide\n",
    "def sigmoid(z):\n",
    "    return 1 / (1 + np.exp(-z))\n",
    "def loss(y, y_hat):\n",
    "    loss = -np.mean(y*(np.log(y_hat)) + (1-y)*np.log(1-y_hat))\n",
    "    return loss\n",
    "\n",
    "losses = []\n",
    "# Entrenamiento del modelo\n",
    "for _ in range(iterations):\n",
    "    z = np.dot(X_train, w) + b\n",
    "    h = sigmoid(z)\n",
    "    gradient_w = np.dot(X_train.T, (h - y_train)) / len(y_train)\n",
    "    gradient_b = np.sum(h - y_train) / len(y_train)\n",
    "    w -= alpha * gradient_w\n",
    "    b -= alpha * gradient_b\n",
    "    \n",
    "\n",
    "# Función para hacer predicciones\n",
    "def predict(X, w, b):\n",
    "    z = np.dot(X, w) + b\n",
    "    h = sigmoid(z)\n",
    "    return (h >= 0.5).astype(int)\n",
    "\n",
    "# Realizar predicciones en el conjunto de prueba\n",
    "y_pred = predict(X_test, w, b)\n",
    "\n",
    "# Calcular la precisión del modelo\n",
    "accuracy = accuracy_score(y_test, y_pred)\n",
    "print(\"Precisión del modelo:\", accuracy)"
   ]
  }
 ],
 "metadata": {
  "kernelspec": {
   "display_name": "Python 3",
   "language": "python",
   "name": "python3"
  },
  "language_info": {
   "codemirror_mode": {
    "name": "ipython",
    "version": 3
   },
   "file_extension": ".py",
   "mimetype": "text/x-python",
   "name": "python",
   "nbconvert_exporter": "python",
   "pygments_lexer": "ipython3",
   "version": "3.11.3"
  },
  "orig_nbformat": 4
 },
 "nbformat": 4,
 "nbformat_minor": 2
}
