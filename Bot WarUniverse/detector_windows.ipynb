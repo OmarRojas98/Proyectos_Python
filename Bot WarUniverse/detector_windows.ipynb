{
 "cells": [
  {
   "cell_type": "code",
   "execution_count": null,
   "metadata": {},
   "outputs": [],
   "source": [
    "import pyautogui as au\n",
    "import time\n",
    "\n",
    "print(au.position())\n",
    "time.sleep(5)"
   ]
  },
  {
   "cell_type": "code",
   "execution_count": null,
   "metadata": {},
   "outputs": [],
   "source": [
    "import pygetwindow as gw\n",
    "from PIL import ImageGrab\n",
    "import win32gui\n",
    "\n",
    "\n",
    "hwnd = win32gui.FindWindow(0, \"WarUniverse\")\n",
    "bbox = win32gui.GetWindowRect(hwnd)\n",
    "print(bbox)\n",
    "\n"
   ]
  },
  {
   "cell_type": "code",
   "execution_count": null,
   "metadata": {},
   "outputs": [],
   "source": [
    "import win32gui\n",
    "def window_enum_handler(hwnd, resultList):\n",
    "    if win32gui.IsWindowVisible(hwnd) and win32gui.GetWindowText(hwnd) != '':\n",
    "        resultList.append((hwnd, win32gui.GetWindowText(hwnd)))\n",
    "\n",
    "def get_app_list(handles=[]):\n",
    "    mlst=[]\n",
    "    win32gui.EnumWindows(window_enum_handler, handles)\n",
    "    for handle in handles:\n",
    "        mlst.append(handle)\n",
    "    return mlst\n",
    "\n",
    "appwindows = get_app_list()\n",
    "for i in appwindows"
   ]
  },
  {
   "cell_type": "code",
   "execution_count": null,
   "metadata": {},
   "outputs": [],
   "source": [
    "import cv2 # OpenCV\n",
    "import pyautogui\n",
    "import numpy as np\n",
    "import win32gui\n",
    "from PIL import ImageGrab\n",
    "\n",
    "\n",
    "while True:\n",
    "\n",
    "    hwnd = win32gui.FindWindow(0, \"WarUniverse\")\n",
    "    print(hwnd)\n",
    "    win32gui.SetForegroundWindow(hwnd)\n",
    "    bbox = win32gui.GetWindowRect(hwnd)\n",
    "    cap = np.array(ImageGrab.grab(bbox))\n",
    "\n",
    "    frame = cv2.cvtColor(cap,cv2.COLOR_BGR2HSV)\n",
    "    frame00 = cv2.cvtColor(frame,cv2.COLOR_BGR2RGB)\n",
    "    \n",
    "    cv2.imshow('frame',cap)\n",
    "    if cv2.waitKey(1) & 0xFF == ord('s'):\n",
    "      break\n",
    "\n",
    "\n",
    "cv2.destroyAllWindows() # cerrar la ventana"
   ]
  },
  {
   "cell_type": "code",
   "execution_count": null,
   "metadata": {},
   "outputs": [],
   "source": [
    "import cv2\n",
    "import numpy as np\n",
    "from PIL import ImageGrab\n",
    "import win32gui\n",
    "\n",
    "\n",
    "\n",
    "#colores a detectar\n",
    "azulBajo = np.array([40,240,197],np.uint8)\n",
    "azulAlto = np.array([40,240,197],np.uint8)\n",
    "\n",
    "\n",
    "hwnd = win32gui.FindWindow(0, \"WarUniverse\")\n",
    "bbox = win32gui.GetWindowRect(hwnd)\n",
    "cap = np.array(ImageGrab.grab(bbox))\n",
    "\n",
    "\n",
    "while True:\n",
    "  hwnd = win32gui.FindWindow(0, \"WarUniverse\")\n",
    "  bbox = win32gui.GetWindowRect(hwnd)\n",
    "  cap = np.array(ImageGrab.grab(bbox))\n",
    "  frame = cv2.cvtColor(cap,cv2.COLOR_RGB2HSV)  \n",
    "  frame0 = cv2.cvtColor(cap,cv2.COLOR_BGR2RGB)  \n",
    "\n",
    "  frameHSV = cv2.cvtColor(frame,cv2.COLOR_BGR2RGB)\n",
    "  mask = cv2.inRange(frameHSV,azulBajo,azulAlto)\n",
    "  contornos,_ = cv2.findContours(mask, cv2.RETR_EXTERNAL,\n",
    "  cv2.CHAIN_APPROX_SIMPLE)\n",
    "  #cv2.drawContours(frame, contornos, -1, (255,0,0), 3)\n",
    "\n",
    "  for c in contornos:\n",
    "    area = cv2.contourArea(c)\n",
    "\n",
    "    if area > 1:\n",
    "      M = cv2.moments(c)\n",
    "      if (M[\"m00\"]==0): M[\"m00\"]=1\n",
    "      x = int(M[\"m10\"]/M[\"m00\"])\n",
    "      y = int(M['m01']/M['m00'])\n",
    "      cv2.circle(frame0, (x,y), 7, (0,255,0), -1)\n",
    "      font = cv2.FONT_HERSHEY_SIMPLEX\n",
    "      cv2.putText(frame0, '{},{}'.format(x,y),(x+10,y), font, 0.75,(0,255,0),1,cv2.LINE_AA)\n",
    "      nuevoContorno = cv2.convexHull(c)\n",
    "      cv2.drawContours(frame0, [nuevoContorno], 0, (255,0,0), 3)\n",
    "\n",
    "  cv2.imshow('maskAzul',mask)\n",
    "  cv2.imshow('frame',frame0)\n",
    "  if cv2.waitKey(1) & 0xFF == ord('s'):\n",
    "    break\n",
    "cv2.destroyAllWindows()"
   ]
  },
  {
   "cell_type": "code",
   "execution_count": 32,
   "metadata": {},
   "outputs": [
    {
     "data": {
      "text/plain": [
       "(512, 2048)"
      ]
     },
     "execution_count": 32,
     "metadata": {},
     "output_type": "execute_result"
    }
   ],
   "source": [
    "from turtle import shape\n",
    "import cv2\n",
    "import numpy as np\n",
    "import time\n",
    "\n",
    "imagen = cv2.imread('alien10.png',0)\n",
    "imagen.shape\n",
    "\n",
    "#cv2.imshow(\"imagen\",imagen)\n",
    "#cv2.waitKey(5000)\n",
    "#cv2.destroyAllWindows()"
   ]
  },
  {
   "cell_type": "code",
   "execution_count": 47,
   "metadata": {},
   "outputs": [
    {
     "ename": "TypeError",
     "evalue": "order must be str, not list",
     "output_type": "error",
     "traceback": [
      "\u001b[1;31m---------------------------------------------------------------------------\u001b[0m",
      "\u001b[1;31mTypeError\u001b[0m                                 Traceback (most recent call last)",
      "File \u001b[1;32mc:\\Users\\omare\\AppData\\Local\\Programs\\Python\\Python310\\lib\\site-packages\\numpy\\core\\fromnumeric.py:57\u001b[0m, in \u001b[0;36m_wrapfunc\u001b[1;34m(obj, method, *args, **kwds)\u001b[0m\n\u001b[0;32m     56\u001b[0m \u001b[39mtry\u001b[39;00m:\n\u001b[1;32m---> 57\u001b[0m     \u001b[39mreturn\u001b[39;00m bound(\u001b[39m*\u001b[39margs, \u001b[39m*\u001b[39m\u001b[39m*\u001b[39mkwds)\n\u001b[0;32m     58\u001b[0m \u001b[39mexcept\u001b[39;00m \u001b[39mTypeError\u001b[39;00m:\n\u001b[0;32m     59\u001b[0m     \u001b[39m# A TypeError occurs if the object does have such a method in its\u001b[39;00m\n\u001b[0;32m     60\u001b[0m     \u001b[39m# class, but its signature is not identical to that of NumPy's. This\u001b[39;00m\n\u001b[1;32m   (...)\u001b[0m\n\u001b[0;32m     64\u001b[0m     \u001b[39m# Call _wrapit from within the except clause to ensure a potential\u001b[39;00m\n\u001b[0;32m     65\u001b[0m     \u001b[39m# exception has a traceback chain.\u001b[39;00m\n",
      "\u001b[1;31mTypeError\u001b[0m: order must be str, not list",
      "\nDuring handling of the above exception, another exception occurred:\n",
      "\u001b[1;31mTypeError\u001b[0m                                 Traceback (most recent call last)",
      "Cell \u001b[1;32mIn [47], line 2\u001b[0m\n\u001b[0;32m      1\u001b[0m pran \u001b[39m=\u001b[39m np\u001b[39m.\u001b[39marray([[\u001b[39m1\u001b[39m,\u001b[39m2\u001b[39m,\u001b[39m3\u001b[39m,\u001b[39m4\u001b[39m,\u001b[39m5\u001b[39m,\u001b[39m6\u001b[39m,\u001b[39m7\u001b[39m,\u001b[39m8\u001b[39m,\u001b[39m9\u001b[39m],[\u001b[39m4\u001b[39m,\u001b[39m5\u001b[39m,\u001b[39m6\u001b[39m,\u001b[39m5\u001b[39m,\u001b[39m6\u001b[39m,\u001b[39m7\u001b[39m,\u001b[39m4\u001b[39m,\u001b[39m9\u001b[39m,\u001b[39m8\u001b[39m]])\n\u001b[1;32m----> 2\u001b[0m np\u001b[39m.\u001b[39;49mreshape(pran,\u001b[39m'\u001b[39;49m\u001b[39mreshape\u001b[39;49m\u001b[39m'\u001b[39;49m,[\u001b[39m2\u001b[39;49m,\u001b[39m3\u001b[39;49m])\n",
      "File \u001b[1;32m<__array_function__ internals>:180\u001b[0m, in \u001b[0;36mreshape\u001b[1;34m(*args, **kwargs)\u001b[0m\n",
      "File \u001b[1;32mc:\\Users\\omare\\AppData\\Local\\Programs\\Python\\Python310\\lib\\site-packages\\numpy\\core\\fromnumeric.py:298\u001b[0m, in \u001b[0;36mreshape\u001b[1;34m(a, newshape, order)\u001b[0m\n\u001b[0;32m    198\u001b[0m \u001b[39m@array_function_dispatch\u001b[39m(_reshape_dispatcher)\n\u001b[0;32m    199\u001b[0m \u001b[39mdef\u001b[39;00m \u001b[39mreshape\u001b[39m(a, newshape, order\u001b[39m=\u001b[39m\u001b[39m'\u001b[39m\u001b[39mC\u001b[39m\u001b[39m'\u001b[39m):\n\u001b[0;32m    200\u001b[0m     \u001b[39m\"\"\"\u001b[39;00m\n\u001b[0;32m    201\u001b[0m \u001b[39m    Gives a new shape to an array without changing its data.\u001b[39;00m\n\u001b[0;32m    202\u001b[0m \n\u001b[1;32m   (...)\u001b[0m\n\u001b[0;32m    296\u001b[0m \u001b[39m           [5, 6]])\u001b[39;00m\n\u001b[0;32m    297\u001b[0m \u001b[39m    \"\"\"\u001b[39;00m\n\u001b[1;32m--> 298\u001b[0m     \u001b[39mreturn\u001b[39;00m _wrapfunc(a, \u001b[39m'\u001b[39;49m\u001b[39mreshape\u001b[39;49m\u001b[39m'\u001b[39;49m, newshape, order\u001b[39m=\u001b[39;49morder)\n",
      "File \u001b[1;32mc:\\Users\\omare\\AppData\\Local\\Programs\\Python\\Python310\\lib\\site-packages\\numpy\\core\\fromnumeric.py:66\u001b[0m, in \u001b[0;36m_wrapfunc\u001b[1;34m(obj, method, *args, **kwds)\u001b[0m\n\u001b[0;32m     57\u001b[0m     \u001b[39mreturn\u001b[39;00m bound(\u001b[39m*\u001b[39margs, \u001b[39m*\u001b[39m\u001b[39m*\u001b[39mkwds)\n\u001b[0;32m     58\u001b[0m \u001b[39mexcept\u001b[39;00m \u001b[39mTypeError\u001b[39;00m:\n\u001b[0;32m     59\u001b[0m     \u001b[39m# A TypeError occurs if the object does have such a method in its\u001b[39;00m\n\u001b[0;32m     60\u001b[0m     \u001b[39m# class, but its signature is not identical to that of NumPy's. This\u001b[39;00m\n\u001b[1;32m   (...)\u001b[0m\n\u001b[0;32m     64\u001b[0m     \u001b[39m# Call _wrapit from within the except clause to ensure a potential\u001b[39;00m\n\u001b[0;32m     65\u001b[0m     \u001b[39m# exception has a traceback chain.\u001b[39;00m\n\u001b[1;32m---> 66\u001b[0m     \u001b[39mreturn\u001b[39;00m _wrapit(obj, method, \u001b[39m*\u001b[39margs, \u001b[39m*\u001b[39m\u001b[39m*\u001b[39mkwds)\n",
      "File \u001b[1;32mc:\\Users\\omare\\AppData\\Local\\Programs\\Python\\Python310\\lib\\site-packages\\numpy\\core\\fromnumeric.py:43\u001b[0m, in \u001b[0;36m_wrapit\u001b[1;34m(obj, method, *args, **kwds)\u001b[0m\n\u001b[0;32m     41\u001b[0m \u001b[39mexcept\u001b[39;00m \u001b[39mAttributeError\u001b[39;00m:\n\u001b[0;32m     42\u001b[0m     wrap \u001b[39m=\u001b[39m \u001b[39mNone\u001b[39;00m\n\u001b[1;32m---> 43\u001b[0m result \u001b[39m=\u001b[39m \u001b[39mgetattr\u001b[39m(asarray(obj), method)(\u001b[39m*\u001b[39margs, \u001b[39m*\u001b[39m\u001b[39m*\u001b[39mkwds)\n\u001b[0;32m     44\u001b[0m \u001b[39mif\u001b[39;00m wrap:\n\u001b[0;32m     45\u001b[0m     \u001b[39mif\u001b[39;00m \u001b[39mnot\u001b[39;00m \u001b[39misinstance\u001b[39m(result, mu\u001b[39m.\u001b[39mndarray):\n",
      "\u001b[1;31mTypeError\u001b[0m: order must be str, not list"
     ]
    }
   ],
   "source": [
    "pran = np.array([[1,2,3,4,5,6,7,8,9],[4,5,6,5,6,7,4,9,8]])\n",
    "np.reshape(pran,'reshape',[2,3])"
   ]
  }
 ],
 "metadata": {
  "kernelspec": {
   "display_name": "Python 3.10.8 64-bit",
   "language": "python",
   "name": "python3"
  },
  "language_info": {
   "codemirror_mode": {
    "name": "ipython",
    "version": 3
   },
   "file_extension": ".py",
   "mimetype": "text/x-python",
   "name": "python",
   "nbconvert_exporter": "python",
   "pygments_lexer": "ipython3",
   "version": "3.10.8"
  },
  "orig_nbformat": 4,
  "vscode": {
   "interpreter": {
    "hash": "1edc62f120aaeff0a4868739404cae12e6eacc77759be20fcf0474be9ee58eeb"
   }
  }
 },
 "nbformat": 4,
 "nbformat_minor": 2
}
